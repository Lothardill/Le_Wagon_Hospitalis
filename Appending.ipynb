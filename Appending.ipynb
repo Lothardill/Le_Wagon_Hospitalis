{
  "cells": [
    {
      "cell_type": "code",
      "execution_count": null,
      "metadata": {
        "colab": {
          "base_uri": "https://localhost:8080/"
        },
        "id": "4c9ezKGGu6Aj",
        "outputId": "bb494525-eb34-4eb4-d68a-ec107bd145f3"
      },
      "outputs": [
        {
          "name": "stdout",
          "output_type": "stream",
          "text": [
            "Requirement already satisfied: pandas in /usr/local/lib/python3.11/dist-packages (2.2.2)\n",
            "Requirement already satisfied: openpyxl in /usr/local/lib/python3.11/dist-packages (3.1.5)\n",
            "Requirement already satisfied: numpy>=1.23.2 in /usr/local/lib/python3.11/dist-packages (from pandas) (1.26.4)\n",
            "Requirement already satisfied: python-dateutil>=2.8.2 in /usr/local/lib/python3.11/dist-packages (from pandas) (2.8.2)\n",
            "Requirement already satisfied: pytz>=2020.1 in /usr/local/lib/python3.11/dist-packages (from pandas) (2025.1)\n",
            "Requirement already satisfied: tzdata>=2022.7 in /usr/local/lib/python3.11/dist-packages (from pandas) (2025.1)\n",
            "Requirement already satisfied: et-xmlfile in /usr/local/lib/python3.11/dist-packages (from openpyxl) (2.0.0)\n",
            "Requirement already satisfied: six>=1.5 in /usr/local/lib/python3.11/dist-packages (from python-dateutil>=2.8.2->pandas) (1.17.0)\n"
          ]
        }
      ],
      "source": [
        "pip install pandas openpyxl"
      ]
    },
    {
      "cell_type": "code",
      "execution_count": null,
      "metadata": {
        "colab": {
          "base_uri": "https://localhost:8080/"
        },
        "id": "g1DWESnMxLMQ",
        "outputId": "d5f83e2d-6f5f-4bcb-b326-8f7d422ae4d5"
      },
      "outputs": [
        {
          "name": "stdout",
          "output_type": "stream",
          "text": [
            "Drive already mounted at /content/drive; to attempt to forcibly remount, call drive.mount(\"/content/drive\", force_remount=True).\n"
          ]
        }
      ],
      "source": [
        "from google.colab import drive\n",
        "drive.mount('/content/drive')\n",
        "import pandas as pd\n",
        "import plotly.express as px"
      ]
    },
    {
      "cell_type": "code",
      "execution_count": null,
      "metadata": {
        "colab": {
          "base_uri": "https://localhost:8080/",
          "height": 1000
        },
        "id": "TvBPqDipwubs",
        "outputId": "4ca3cbf2-3d16-4ace-bd45-d63702d5eba5"
      },
      "outputs": [
        {
          "data": {
            "application/vnd.google.colaboratory.intrinsic+json": {
              "type": "dataframe"
            },
            "text/html": [
              "\n",
              "  <div id=\"df-968d087a-50f0-4e6f-9059-6c0f7b6c32be\" class=\"colab-df-container\">\n",
              "    <div>\n",
              "<style scoped>\n",
              "    .dataframe tbody tr th:only-of-type {\n",
              "        vertical-align: middle;\n",
              "    }\n",
              "\n",
              "    .dataframe tbody tr th {\n",
              "        vertical-align: top;\n",
              "    }\n",
              "\n",
              "    .dataframe thead th {\n",
              "        text-align: right;\n",
              "    }\n",
              "</style>\n",
              "<table border=\"1\" class=\"dataframe\">\n",
              "  <thead>\n",
              "    <tr style=\"text-align: right;\">\n",
              "      <th></th>\n",
              "      <th>Fournisseur</th>\n",
              "      <th>Routage</th>\n",
              "      <th>Robot ETS</th>\n",
              "      <th>Date Insertion</th>\n",
              "      <th>Commande</th>\n",
              "      <th>Dépôt DMI</th>\n",
              "      <th>Réf. Article</th>\n",
              "      <th>Libellé Article</th>\n",
              "      <th>Quantité</th>\n",
              "      <th>Prix HT</th>\n",
              "      <th>Prix TTC</th>\n",
              "      <th>Mnt HT</th>\n",
              "      <th>Mnt TTC</th>\n",
              "    </tr>\n",
              "  </thead>\n",
              "  <tbody>\n",
              "    <tr>\n",
              "      <th>0</th>\n",
              "      <td>AA0B7BB</td>\n",
              "      <td>0B7</td>\n",
              "      <td>01B</td>\n",
              "      <td>2024-06-04 13:28:47.420</td>\n",
              "      <td>ACPHD2406-0035</td>\n",
              "      <td>NaN</td>\n",
              "      <td>111815</td>\n",
              "      <td>AIG HYPODERMIQUE 18G 40MM RUPTURE SWITCH REF 3...</td>\n",
              "      <td>30000</td>\n",
              "      <td>0.0144</td>\n",
              "      <td>0.0173</td>\n",
              "      <td>NaN</td>\n",
              "      <td>519.00</td>\n",
              "    </tr>\n",
              "    <tr>\n",
              "      <th>1</th>\n",
              "      <td>AA0B7BB</td>\n",
              "      <td>0B7</td>\n",
              "      <td>01B</td>\n",
              "      <td>2024-06-04 13:28:47.420</td>\n",
              "      <td>ACPHD2406-0035</td>\n",
              "      <td>NaN</td>\n",
              "      <td>112310</td>\n",
              "      <td>AIG HYPODERMIQUE 23G 25MM</td>\n",
              "      <td>400</td>\n",
              "      <td>0.0144</td>\n",
              "      <td>0.0173</td>\n",
              "      <td>NaN</td>\n",
              "      <td>6.92</td>\n",
              "    </tr>\n",
              "    <tr>\n",
              "      <th>2</th>\n",
              "      <td>AA0B7BB</td>\n",
              "      <td>0B7</td>\n",
              "      <td>01B</td>\n",
              "      <td>2024-06-25 13:55:46.790</td>\n",
              "      <td>ACPHD2406-0152</td>\n",
              "      <td>NaN</td>\n",
              "      <td>111815</td>\n",
              "      <td>AIG HYPODERMIQUE 18G 40MM RUPTURE SWITCH REF 3...</td>\n",
              "      <td>45000</td>\n",
              "      <td>0.0144</td>\n",
              "      <td>0.0173</td>\n",
              "      <td>NaN</td>\n",
              "      <td>778.50</td>\n",
              "    </tr>\n",
              "    <tr>\n",
              "      <th>3</th>\n",
              "      <td>AA0B7BB</td>\n",
              "      <td>0B7</td>\n",
              "      <td>01B</td>\n",
              "      <td>2024-06-25 13:55:46.790</td>\n",
              "      <td>ACPHD2406-0152</td>\n",
              "      <td>NaN</td>\n",
              "      <td>RACDLLM</td>\n",
              "      <td>RACCORD DOUBLE LL M/M RUPTURE SWITCH REF 00893.00</td>\n",
              "      <td>200</td>\n",
              "      <td>0.1160</td>\n",
              "      <td>0.1392</td>\n",
              "      <td>NaN</td>\n",
              "      <td>27.84</td>\n",
              "    </tr>\n",
              "    <tr>\n",
              "      <th>4</th>\n",
              "      <td>AA0B7BB</td>\n",
              "      <td>0B7</td>\n",
              "      <td>01B</td>\n",
              "      <td>2024-07-23 13:42:34.117</td>\n",
              "      <td>ACPHD2407-0170</td>\n",
              "      <td>NaN</td>\n",
              "      <td>111815</td>\n",
              "      <td>AIG HYPODERMIQUE 18G 40MM RUPTURE SWITCH REF 3...</td>\n",
              "      <td>30000</td>\n",
              "      <td>0.0144</td>\n",
              "      <td>0.0173</td>\n",
              "      <td>NaN</td>\n",
              "      <td>519.00</td>\n",
              "    </tr>\n",
              "    <tr>\n",
              "      <th>...</th>\n",
              "      <td>...</td>\n",
              "      <td>...</td>\n",
              "      <td>...</td>\n",
              "      <td>...</td>\n",
              "      <td>...</td>\n",
              "      <td>...</td>\n",
              "      <td>...</td>\n",
              "      <td>...</td>\n",
              "      <td>...</td>\n",
              "      <td>...</td>\n",
              "      <td>...</td>\n",
              "      <td>...</td>\n",
              "      <td>...</td>\n",
              "    </tr>\n",
              "    <tr>\n",
              "      <th>120810</th>\n",
              "      <td>AA0B7BB</td>\n",
              "      <td>0B7</td>\n",
              "      <td>LV3</td>\n",
              "      <td>2024-12-24 16:13:57.567</td>\n",
              "      <td>RTPHA2400338</td>\n",
              "      <td>NaN</td>\n",
              "      <td>112120</td>\n",
              "      <td>AIG HYPODERM SOL-M 21G 50MM Bo (Uni te : UNIT?)</td>\n",
              "      <td>1000</td>\n",
              "      <td>NaN</td>\n",
              "      <td>NaN</td>\n",
              "      <td>NaN</td>\n",
              "      <td>NaN</td>\n",
              "    </tr>\n",
              "    <tr>\n",
              "      <th>120811</th>\n",
              "      <td>AA0B7BB</td>\n",
              "      <td>0B7</td>\n",
              "      <td>LV3</td>\n",
              "      <td>2024-12-24 16:13:57.567</td>\n",
              "      <td>RTPHA2400338</td>\n",
              "      <td>NaN</td>\n",
              "      <td>112506</td>\n",
              "      <td>AIG HYPODERM SOL-M 25G 16MM Bo (Uni te : UNIT?)</td>\n",
              "      <td>1000</td>\n",
              "      <td>NaN</td>\n",
              "      <td>NaN</td>\n",
              "      <td>NaN</td>\n",
              "      <td>NaN</td>\n",
              "    </tr>\n",
              "    <tr>\n",
              "      <th>120812</th>\n",
              "      <td>AA0B7BB</td>\n",
              "      <td>0B7</td>\n",
              "      <td>LV3</td>\n",
              "      <td>2024-12-24 16:13:57.567</td>\n",
              "      <td>RTPHA2400338</td>\n",
              "      <td>NaN</td>\n",
              "      <td>BISSM11</td>\n",
              "      <td>BISTOURI ST SWANN MORTON N 11 (Unit e : UNIT?)</td>\n",
              "      <td>100</td>\n",
              "      <td>NaN</td>\n",
              "      <td>NaN</td>\n",
              "      <td>NaN</td>\n",
              "      <td>NaN</td>\n",
              "    </tr>\n",
              "    <tr>\n",
              "      <th>120813</th>\n",
              "      <td>AA0B7BB</td>\n",
              "      <td>0B7</td>\n",
              "      <td>LV3</td>\n",
              "      <td>2024-12-24 16:13:57.567</td>\n",
              "      <td>RTPHA2400338</td>\n",
              "      <td>NaN</td>\n",
              "      <td>BISSM15</td>\n",
              "      <td>BISTOURI ST SWANN MORTON N 15 (Unit e : UNIT?)</td>\n",
              "      <td>100</td>\n",
              "      <td>NaN</td>\n",
              "      <td>NaN</td>\n",
              "      <td>NaN</td>\n",
              "      <td>NaN</td>\n",
              "    </tr>\n",
              "    <tr>\n",
              "      <th>120814</th>\n",
              "      <td>AA0B7BB</td>\n",
              "      <td>0B7</td>\n",
              "      <td>LV3</td>\n",
              "      <td>2024-12-24 16:13:57.567</td>\n",
              "      <td>RTPHA2400338</td>\n",
              "      <td>NaN</td>\n",
              "      <td>BISSM23</td>\n",
              "      <td>BISTOURI ST SWANN MORTON N 23 (Unit e : UNIT?)</td>\n",
              "      <td>50</td>\n",
              "      <td>NaN</td>\n",
              "      <td>NaN</td>\n",
              "      <td>NaN</td>\n",
              "      <td>NaN</td>\n",
              "    </tr>\n",
              "  </tbody>\n",
              "</table>\n",
              "<p>120815 rows × 13 columns</p>\n",
              "</div>\n",
              "    <div class=\"colab-df-buttons\">\n",
              "\n",
              "  <div class=\"colab-df-container\">\n",
              "    <button class=\"colab-df-convert\" onclick=\"convertToInteractive('df-968d087a-50f0-4e6f-9059-6c0f7b6c32be')\"\n",
              "            title=\"Convert this dataframe to an interactive table.\"\n",
              "            style=\"display:none;\">\n",
              "\n",
              "  <svg xmlns=\"http://www.w3.org/2000/svg\" height=\"24px\" viewBox=\"0 -960 960 960\">\n",
              "    <path d=\"M120-120v-720h720v720H120Zm60-500h600v-160H180v160Zm220 220h160v-160H400v160Zm0 220h160v-160H400v160ZM180-400h160v-160H180v160Zm440 0h160v-160H620v160ZM180-180h160v-160H180v160Zm440 0h160v-160H620v160Z\"/>\n",
              "  </svg>\n",
              "    </button>\n",
              "\n",
              "  <style>\n",
              "    .colab-df-container {\n",
              "      display:flex;\n",
              "      gap: 12px;\n",
              "    }\n",
              "\n",
              "    .colab-df-convert {\n",
              "      background-color: #E8F0FE;\n",
              "      border: none;\n",
              "      border-radius: 50%;\n",
              "      cursor: pointer;\n",
              "      display: none;\n",
              "      fill: #1967D2;\n",
              "      height: 32px;\n",
              "      padding: 0 0 0 0;\n",
              "      width: 32px;\n",
              "    }\n",
              "\n",
              "    .colab-df-convert:hover {\n",
              "      background-color: #E2EBFA;\n",
              "      box-shadow: 0px 1px 2px rgba(60, 64, 67, 0.3), 0px 1px 3px 1px rgba(60, 64, 67, 0.15);\n",
              "      fill: #174EA6;\n",
              "    }\n",
              "\n",
              "    .colab-df-buttons div {\n",
              "      margin-bottom: 4px;\n",
              "    }\n",
              "\n",
              "    [theme=dark] .colab-df-convert {\n",
              "      background-color: #3B4455;\n",
              "      fill: #D2E3FC;\n",
              "    }\n",
              "\n",
              "    [theme=dark] .colab-df-convert:hover {\n",
              "      background-color: #434B5C;\n",
              "      box-shadow: 0px 1px 3px 1px rgba(0, 0, 0, 0.15);\n",
              "      filter: drop-shadow(0px 1px 2px rgba(0, 0, 0, 0.3));\n",
              "      fill: #FFFFFF;\n",
              "    }\n",
              "  </style>\n",
              "\n",
              "    <script>\n",
              "      const buttonEl =\n",
              "        document.querySelector('#df-968d087a-50f0-4e6f-9059-6c0f7b6c32be button.colab-df-convert');\n",
              "      buttonEl.style.display =\n",
              "        google.colab.kernel.accessAllowed ? 'block' : 'none';\n",
              "\n",
              "      async function convertToInteractive(key) {\n",
              "        const element = document.querySelector('#df-968d087a-50f0-4e6f-9059-6c0f7b6c32be');\n",
              "        const dataTable =\n",
              "          await google.colab.kernel.invokeFunction('convertToInteractive',\n",
              "                                                    [key], {});\n",
              "        if (!dataTable) return;\n",
              "\n",
              "        const docLinkHtml = 'Like what you see? Visit the ' +\n",
              "          '<a target=\"_blank\" href=https://colab.research.google.com/notebooks/data_table.ipynb>data table notebook</a>'\n",
              "          + ' to learn more about interactive tables.';\n",
              "        element.innerHTML = '';\n",
              "        dataTable['output_type'] = 'display_data';\n",
              "        await google.colab.output.renderOutput(dataTable, element);\n",
              "        const docLink = document.createElement('div');\n",
              "        docLink.innerHTML = docLinkHtml;\n",
              "        element.appendChild(docLink);\n",
              "      }\n",
              "    </script>\n",
              "  </div>\n",
              "\n",
              "\n",
              "<div id=\"df-b40a8c6a-1914-4dfd-af5c-ce0eacdd3baf\">\n",
              "  <button class=\"colab-df-quickchart\" onclick=\"quickchart('df-b40a8c6a-1914-4dfd-af5c-ce0eacdd3baf')\"\n",
              "            title=\"Suggest charts\"\n",
              "            style=\"display:none;\">\n",
              "\n",
              "<svg xmlns=\"http://www.w3.org/2000/svg\" height=\"24px\"viewBox=\"0 0 24 24\"\n",
              "     width=\"24px\">\n",
              "    <g>\n",
              "        <path d=\"M19 3H5c-1.1 0-2 .9-2 2v14c0 1.1.9 2 2 2h14c1.1 0 2-.9 2-2V5c0-1.1-.9-2-2-2zM9 17H7v-7h2v7zm4 0h-2V7h2v10zm4 0h-2v-4h2v4z\"/>\n",
              "    </g>\n",
              "</svg>\n",
              "  </button>\n",
              "\n",
              "<style>\n",
              "  .colab-df-quickchart {\n",
              "      --bg-color: #E8F0FE;\n",
              "      --fill-color: #1967D2;\n",
              "      --hover-bg-color: #E2EBFA;\n",
              "      --hover-fill-color: #174EA6;\n",
              "      --disabled-fill-color: #AAA;\n",
              "      --disabled-bg-color: #DDD;\n",
              "  }\n",
              "\n",
              "  [theme=dark] .colab-df-quickchart {\n",
              "      --bg-color: #3B4455;\n",
              "      --fill-color: #D2E3FC;\n",
              "      --hover-bg-color: #434B5C;\n",
              "      --hover-fill-color: #FFFFFF;\n",
              "      --disabled-bg-color: #3B4455;\n",
              "      --disabled-fill-color: #666;\n",
              "  }\n",
              "\n",
              "  .colab-df-quickchart {\n",
              "    background-color: var(--bg-color);\n",
              "    border: none;\n",
              "    border-radius: 50%;\n",
              "    cursor: pointer;\n",
              "    display: none;\n",
              "    fill: var(--fill-color);\n",
              "    height: 32px;\n",
              "    padding: 0;\n",
              "    width: 32px;\n",
              "  }\n",
              "\n",
              "  .colab-df-quickchart:hover {\n",
              "    background-color: var(--hover-bg-color);\n",
              "    box-shadow: 0 1px 2px rgba(60, 64, 67, 0.3), 0 1px 3px 1px rgba(60, 64, 67, 0.15);\n",
              "    fill: var(--button-hover-fill-color);\n",
              "  }\n",
              "\n",
              "  .colab-df-quickchart-complete:disabled,\n",
              "  .colab-df-quickchart-complete:disabled:hover {\n",
              "    background-color: var(--disabled-bg-color);\n",
              "    fill: var(--disabled-fill-color);\n",
              "    box-shadow: none;\n",
              "  }\n",
              "\n",
              "  .colab-df-spinner {\n",
              "    border: 2px solid var(--fill-color);\n",
              "    border-color: transparent;\n",
              "    border-bottom-color: var(--fill-color);\n",
              "    animation:\n",
              "      spin 1s steps(1) infinite;\n",
              "  }\n",
              "\n",
              "  @keyframes spin {\n",
              "    0% {\n",
              "      border-color: transparent;\n",
              "      border-bottom-color: var(--fill-color);\n",
              "      border-left-color: var(--fill-color);\n",
              "    }\n",
              "    20% {\n",
              "      border-color: transparent;\n",
              "      border-left-color: var(--fill-color);\n",
              "      border-top-color: var(--fill-color);\n",
              "    }\n",
              "    30% {\n",
              "      border-color: transparent;\n",
              "      border-left-color: var(--fill-color);\n",
              "      border-top-color: var(--fill-color);\n",
              "      border-right-color: var(--fill-color);\n",
              "    }\n",
              "    40% {\n",
              "      border-color: transparent;\n",
              "      border-right-color: var(--fill-color);\n",
              "      border-top-color: var(--fill-color);\n",
              "    }\n",
              "    60% {\n",
              "      border-color: transparent;\n",
              "      border-right-color: var(--fill-color);\n",
              "    }\n",
              "    80% {\n",
              "      border-color: transparent;\n",
              "      border-right-color: var(--fill-color);\n",
              "      border-bottom-color: var(--fill-color);\n",
              "    }\n",
              "    90% {\n",
              "      border-color: transparent;\n",
              "      border-bottom-color: var(--fill-color);\n",
              "    }\n",
              "  }\n",
              "</style>\n",
              "\n",
              "  <script>\n",
              "    async function quickchart(key) {\n",
              "      const quickchartButtonEl =\n",
              "        document.querySelector('#' + key + ' button');\n",
              "      quickchartButtonEl.disabled = true;  // To prevent multiple clicks.\n",
              "      quickchartButtonEl.classList.add('colab-df-spinner');\n",
              "      try {\n",
              "        const charts = await google.colab.kernel.invokeFunction(\n",
              "            'suggestCharts', [key], {});\n",
              "      } catch (error) {\n",
              "        console.error('Error during call to suggestCharts:', error);\n",
              "      }\n",
              "      quickchartButtonEl.classList.remove('colab-df-spinner');\n",
              "      quickchartButtonEl.classList.add('colab-df-quickchart-complete');\n",
              "    }\n",
              "    (() => {\n",
              "      let quickchartButtonEl =\n",
              "        document.querySelector('#df-b40a8c6a-1914-4dfd-af5c-ce0eacdd3baf button');\n",
              "      quickchartButtonEl.style.display =\n",
              "        google.colab.kernel.accessAllowed ? 'block' : 'none';\n",
              "    })();\n",
              "  </script>\n",
              "</div>\n",
              "\n",
              "    </div>\n",
              "  </div>\n"
            ],
            "text/plain": [
              "       Fournisseur Routage Robot ETS           Date Insertion        Commande  \\\n",
              "0          AA0B7BB     0B7       01B  2024-06-04 13:28:47.420  ACPHD2406-0035   \n",
              "1          AA0B7BB     0B7       01B  2024-06-04 13:28:47.420  ACPHD2406-0035   \n",
              "2          AA0B7BB     0B7       01B  2024-06-25 13:55:46.790  ACPHD2406-0152   \n",
              "3          AA0B7BB     0B7       01B  2024-06-25 13:55:46.790  ACPHD2406-0152   \n",
              "4          AA0B7BB     0B7       01B  2024-07-23 13:42:34.117  ACPHD2407-0170   \n",
              "...            ...     ...       ...                      ...             ...   \n",
              "120810     AA0B7BB     0B7       LV3  2024-12-24 16:13:57.567    RTPHA2400338   \n",
              "120811     AA0B7BB     0B7       LV3  2024-12-24 16:13:57.567    RTPHA2400338   \n",
              "120812     AA0B7BB     0B7       LV3  2024-12-24 16:13:57.567    RTPHA2400338   \n",
              "120813     AA0B7BB     0B7       LV3  2024-12-24 16:13:57.567    RTPHA2400338   \n",
              "120814     AA0B7BB     0B7       LV3  2024-12-24 16:13:57.567    RTPHA2400338   \n",
              "\n",
              "        Dépôt DMI Réf. Article  \\\n",
              "0             NaN       111815   \n",
              "1             NaN       112310   \n",
              "2             NaN       111815   \n",
              "3             NaN      RACDLLM   \n",
              "4             NaN       111815   \n",
              "...           ...          ...   \n",
              "120810        NaN       112120   \n",
              "120811        NaN       112506   \n",
              "120812        NaN      BISSM11   \n",
              "120813        NaN      BISSM15   \n",
              "120814        NaN      BISSM23   \n",
              "\n",
              "                                          Libellé Article  Quantité  Prix HT  \\\n",
              "0       AIG HYPODERMIQUE 18G 40MM RUPTURE SWITCH REF 3...     30000   0.0144   \n",
              "1                               AIG HYPODERMIQUE 23G 25MM       400   0.0144   \n",
              "2       AIG HYPODERMIQUE 18G 40MM RUPTURE SWITCH REF 3...     45000   0.0144   \n",
              "3       RACCORD DOUBLE LL M/M RUPTURE SWITCH REF 00893.00       200   0.1160   \n",
              "4       AIG HYPODERMIQUE 18G 40MM RUPTURE SWITCH REF 3...     30000   0.0144   \n",
              "...                                                   ...       ...      ...   \n",
              "120810    AIG HYPODERM SOL-M 21G 50MM Bo (Uni te : UNIT?)      1000      NaN   \n",
              "120811    AIG HYPODERM SOL-M 25G 16MM Bo (Uni te : UNIT?)      1000      NaN   \n",
              "120812     BISTOURI ST SWANN MORTON N 11 (Unit e : UNIT?)       100      NaN   \n",
              "120813     BISTOURI ST SWANN MORTON N 15 (Unit e : UNIT?)       100      NaN   \n",
              "120814     BISTOURI ST SWANN MORTON N 23 (Unit e : UNIT?)        50      NaN   \n",
              "\n",
              "        Prix TTC  Mnt HT  Mnt TTC  \n",
              "0         0.0173     NaN   519.00  \n",
              "1         0.0173     NaN     6.92  \n",
              "2         0.0173     NaN   778.50  \n",
              "3         0.1392     NaN    27.84  \n",
              "4         0.0173     NaN   519.00  \n",
              "...          ...     ...      ...  \n",
              "120810       NaN     NaN      NaN  \n",
              "120811       NaN     NaN      NaN  \n",
              "120812       NaN     NaN      NaN  \n",
              "120813       NaN     NaN      NaN  \n",
              "120814       NaN     NaN      NaN  \n",
              "\n",
              "[120815 rows x 13 columns]"
            ]
          },
          "execution_count": 10,
          "metadata": {},
          "output_type": "execute_result"
        }
      ],
      "source": [
        "pd.read_excel(\"/content/drive/MyDrive/Untitled folder/file1.xlsx\")"
      ]
    },
    {
      "cell_type": "code",
      "execution_count": null,
      "metadata": {
        "colab": {
          "base_uri": "https://localhost:8080/",
          "height": 862
        },
        "id": "ysFdnosux9mA",
        "outputId": "2d4bb04b-c5da-4fd4-aa6d-bd0b17c667d5"
      },
      "outputs": [
        {
          "name": "stdout",
          "output_type": "stream",
          "text": [
            "Drive already mounted at /content/drive; to attempt to forcibly remount, call drive.mount(\"/content/drive\", force_remount=True).\n",
            "Requirement already satisfied: openpyxl in /usr/local/lib/python3.11/dist-packages (3.1.5)\n",
            "Requirement already satisfied: pandas in /usr/local/lib/python3.11/dist-packages (2.2.2)\n",
            "Requirement already satisfied: et-xmlfile in /usr/local/lib/python3.11/dist-packages (from openpyxl) (2.0.0)\n",
            "Requirement already satisfied: numpy>=1.23.2 in /usr/local/lib/python3.11/dist-packages (from pandas) (1.26.4)\n",
            "Requirement already satisfied: python-dateutil>=2.8.2 in /usr/local/lib/python3.11/dist-packages (from pandas) (2.8.2)\n",
            "Requirement already satisfied: pytz>=2020.1 in /usr/local/lib/python3.11/dist-packages (from pandas) (2025.1)\n",
            "Requirement already satisfied: tzdata>=2022.7 in /usr/local/lib/python3.11/dist-packages (from pandas) (2025.1)\n",
            "Requirement already satisfied: six>=1.5 in /usr/local/lib/python3.11/dist-packages (from python-dateutil>=2.8.2->pandas) (1.17.0)\n",
            "Reading file: /content/drive/MyDrive/Untitled folder/file1.xlsx\n",
            "Reading file: /content/drive/MyDrive/Untitled folder/file2.xlsx\n",
            "Reading file: /content/drive/MyDrive/Untitled folder/file3.xlsx\n",
            "Reading file: /content/drive/MyDrive/Untitled folder/file4.xlsx\n",
            "Reading file: /content/drive/MyDrive/Untitled folder/file5.xlsx\n",
            "Reading file: /content/drive/MyDrive/Untitled folder/file6.xlsx\n",
            "Reading file: /content/drive/MyDrive/Untitled folder/file7.xlsx\n",
            "Reading file: /content/drive/MyDrive/Untitled folder/file8.xlsx\n",
            "Reading file: /content/drive/MyDrive/Untitled folder/file9.xlsx\n",
            "Reading file: /content/drive/MyDrive/Untitled folder/file10.xlsx\n",
            "Reading file: /content/drive/MyDrive/Untitled folder/file11.xlsx\n",
            "Reading file: /content/drive/MyDrive/Untitled folder/file12.xlsx\n",
            "Reading file: /content/drive/MyDrive/Untitled folder/file13.xlsx\n",
            "Reading file: /content/drive/MyDrive/Untitled folder/file14.xlsx\n",
            "Reading file: /content/drive/MyDrive/Untitled folder/file15.xlsx\n",
            "Reading file: /content/drive/MyDrive/Untitled folder/file16.xlsx\n",
            "Reading file: /content/drive/MyDrive/Untitled folder/file17.xlsx\n",
            "Reading file: /content/drive/MyDrive/Untitled folder/file18.xlsx\n",
            "Reading file: /content/drive/MyDrive/Untitled folder/file19.xlsx\n"
          ]
        },
        {
          "ename": "KeyboardInterrupt",
          "evalue": "",
          "output_type": "error",
          "traceback": [
            "\u001b[0;31m---------------------------------------------------------------------------\u001b[0m",
            "\u001b[0;31mKeyboardInterrupt\u001b[0m                         Traceback (most recent call last)",
            "\u001b[0;32m<ipython-input-13-4d40d59586f4>\u001b[0m in \u001b[0;36m<cell line: 0>\u001b[0;34m()\u001b[0m\n\u001b[1;32m     16\u001b[0m     \u001b[0;32mtry\u001b[0m\u001b[0;34m:\u001b[0m\u001b[0;34m\u001b[0m\u001b[0;34m\u001b[0m\u001b[0m\n\u001b[1;32m     17\u001b[0m         \u001b[0mprint\u001b[0m\u001b[0;34m(\u001b[0m\u001b[0;34mf\"Reading file: {file_path}\"\u001b[0m\u001b[0;34m)\u001b[0m\u001b[0;34m\u001b[0m\u001b[0;34m\u001b[0m\u001b[0m\n\u001b[0;32m---> 18\u001b[0;31m         \u001b[0mtemp_df\u001b[0m \u001b[0;34m=\u001b[0m \u001b[0mpd\u001b[0m\u001b[0;34m.\u001b[0m\u001b[0mread_excel\u001b[0m\u001b[0;34m(\u001b[0m\u001b[0;34mf\"{base_path}{i}.xlsx\"\u001b[0m\u001b[0;34m,\u001b[0m \u001b[0mengine\u001b[0m\u001b[0;34m=\u001b[0m\u001b[0;34m'openpyxl'\u001b[0m\u001b[0;34m)\u001b[0m\u001b[0;34m\u001b[0m\u001b[0;34m\u001b[0m\u001b[0m\n\u001b[0m\u001b[1;32m     19\u001b[0m         \u001b[0mdf_list\u001b[0m\u001b[0;34m.\u001b[0m\u001b[0mappend\u001b[0m\u001b[0;34m(\u001b[0m\u001b[0mtemp_df\u001b[0m\u001b[0;34m)\u001b[0m\u001b[0;34m\u001b[0m\u001b[0;34m\u001b[0m\u001b[0m\n\u001b[1;32m     20\u001b[0m     \u001b[0;32mexcept\u001b[0m \u001b[0mFileNotFoundError\u001b[0m\u001b[0;34m:\u001b[0m\u001b[0;34m\u001b[0m\u001b[0;34m\u001b[0m\u001b[0m\n",
            "\u001b[0;32m/usr/local/lib/python3.11/dist-packages/pandas/io/excel/_base.py\u001b[0m in \u001b[0;36mread_excel\u001b[0;34m(io, sheet_name, header, names, index_col, usecols, dtype, engine, converters, true_values, false_values, skiprows, nrows, na_values, keep_default_na, na_filter, verbose, parse_dates, date_parser, date_format, thousands, decimal, comment, skipfooter, storage_options, dtype_backend, engine_kwargs)\u001b[0m\n\u001b[1;32m    506\u001b[0m \u001b[0;34m\u001b[0m\u001b[0m\n\u001b[1;32m    507\u001b[0m     \u001b[0;32mtry\u001b[0m\u001b[0;34m:\u001b[0m\u001b[0;34m\u001b[0m\u001b[0;34m\u001b[0m\u001b[0m\n\u001b[0;32m--> 508\u001b[0;31m         data = io.parse(\n\u001b[0m\u001b[1;32m    509\u001b[0m             \u001b[0msheet_name\u001b[0m\u001b[0;34m=\u001b[0m\u001b[0msheet_name\u001b[0m\u001b[0;34m,\u001b[0m\u001b[0;34m\u001b[0m\u001b[0;34m\u001b[0m\u001b[0m\n\u001b[1;32m    510\u001b[0m             \u001b[0mheader\u001b[0m\u001b[0;34m=\u001b[0m\u001b[0mheader\u001b[0m\u001b[0;34m,\u001b[0m\u001b[0;34m\u001b[0m\u001b[0;34m\u001b[0m\u001b[0m\n",
            "\u001b[0;32m/usr/local/lib/python3.11/dist-packages/pandas/io/excel/_base.py\u001b[0m in \u001b[0;36mparse\u001b[0;34m(self, sheet_name, header, names, index_col, usecols, converters, true_values, false_values, skiprows, nrows, na_values, parse_dates, date_parser, date_format, thousands, comment, skipfooter, dtype_backend, **kwds)\u001b[0m\n\u001b[1;32m   1614\u001b[0m         \u001b[0;34m>>\u001b[0m\u001b[0;34m>\u001b[0m \u001b[0mfile\u001b[0m\u001b[0;34m.\u001b[0m\u001b[0mparse\u001b[0m\u001b[0;34m(\u001b[0m\u001b[0;34m)\u001b[0m  \u001b[0;31m# doctest: +SKIP\u001b[0m\u001b[0;34m\u001b[0m\u001b[0;34m\u001b[0m\u001b[0m\n\u001b[1;32m   1615\u001b[0m         \"\"\"\n\u001b[0;32m-> 1616\u001b[0;31m         return self._reader.parse(\n\u001b[0m\u001b[1;32m   1617\u001b[0m             \u001b[0msheet_name\u001b[0m\u001b[0;34m=\u001b[0m\u001b[0msheet_name\u001b[0m\u001b[0;34m,\u001b[0m\u001b[0;34m\u001b[0m\u001b[0;34m\u001b[0m\u001b[0m\n\u001b[1;32m   1618\u001b[0m             \u001b[0mheader\u001b[0m\u001b[0;34m=\u001b[0m\u001b[0mheader\u001b[0m\u001b[0;34m,\u001b[0m\u001b[0;34m\u001b[0m\u001b[0;34m\u001b[0m\u001b[0m\n",
            "\u001b[0;32m/usr/local/lib/python3.11/dist-packages/pandas/io/excel/_base.py\u001b[0m in \u001b[0;36mparse\u001b[0;34m(self, sheet_name, header, names, index_col, usecols, dtype, true_values, false_values, skiprows, nrows, na_values, verbose, parse_dates, date_parser, date_format, thousands, decimal, comment, skipfooter, dtype_backend, **kwds)\u001b[0m\n\u001b[1;32m    776\u001b[0m \u001b[0;34m\u001b[0m\u001b[0m\n\u001b[1;32m    777\u001b[0m             \u001b[0mfile_rows_needed\u001b[0m \u001b[0;34m=\u001b[0m \u001b[0mself\u001b[0m\u001b[0;34m.\u001b[0m\u001b[0m_calc_rows\u001b[0m\u001b[0;34m(\u001b[0m\u001b[0mheader\u001b[0m\u001b[0;34m,\u001b[0m \u001b[0mindex_col\u001b[0m\u001b[0;34m,\u001b[0m \u001b[0mskiprows\u001b[0m\u001b[0;34m,\u001b[0m \u001b[0mnrows\u001b[0m\u001b[0;34m)\u001b[0m\u001b[0;34m\u001b[0m\u001b[0;34m\u001b[0m\u001b[0m\n\u001b[0;32m--> 778\u001b[0;31m             \u001b[0mdata\u001b[0m \u001b[0;34m=\u001b[0m \u001b[0mself\u001b[0m\u001b[0;34m.\u001b[0m\u001b[0mget_sheet_data\u001b[0m\u001b[0;34m(\u001b[0m\u001b[0msheet\u001b[0m\u001b[0;34m,\u001b[0m \u001b[0mfile_rows_needed\u001b[0m\u001b[0;34m)\u001b[0m\u001b[0;34m\u001b[0m\u001b[0;34m\u001b[0m\u001b[0m\n\u001b[0m\u001b[1;32m    779\u001b[0m             \u001b[0;32mif\u001b[0m \u001b[0mhasattr\u001b[0m\u001b[0;34m(\u001b[0m\u001b[0msheet\u001b[0m\u001b[0;34m,\u001b[0m \u001b[0;34m\"close\"\u001b[0m\u001b[0;34m)\u001b[0m\u001b[0;34m:\u001b[0m\u001b[0;34m\u001b[0m\u001b[0;34m\u001b[0m\u001b[0m\n\u001b[1;32m    780\u001b[0m                 \u001b[0;31m# pyxlsb opens two TemporaryFiles\u001b[0m\u001b[0;34m\u001b[0m\u001b[0;34m\u001b[0m\u001b[0m\n",
            "\u001b[0;32m/usr/local/lib/python3.11/dist-packages/pandas/io/excel/_openpyxl.py\u001b[0m in \u001b[0;36mget_sheet_data\u001b[0;34m(self, sheet, file_rows_needed)\u001b[0m\n\u001b[1;32m    613\u001b[0m         \u001b[0mdata\u001b[0m\u001b[0;34m:\u001b[0m \u001b[0mlist\u001b[0m\u001b[0;34m[\u001b[0m\u001b[0mlist\u001b[0m\u001b[0;34m[\u001b[0m\u001b[0mScalar\u001b[0m\u001b[0;34m]\u001b[0m\u001b[0;34m]\u001b[0m \u001b[0;34m=\u001b[0m \u001b[0;34m[\u001b[0m\u001b[0;34m]\u001b[0m\u001b[0;34m\u001b[0m\u001b[0;34m\u001b[0m\u001b[0m\n\u001b[1;32m    614\u001b[0m         \u001b[0mlast_row_with_data\u001b[0m \u001b[0;34m=\u001b[0m \u001b[0;34m-\u001b[0m\u001b[0;36m1\u001b[0m\u001b[0;34m\u001b[0m\u001b[0;34m\u001b[0m\u001b[0m\n\u001b[0;32m--> 615\u001b[0;31m         \u001b[0;32mfor\u001b[0m \u001b[0mrow_number\u001b[0m\u001b[0;34m,\u001b[0m \u001b[0mrow\u001b[0m \u001b[0;32min\u001b[0m \u001b[0menumerate\u001b[0m\u001b[0;34m(\u001b[0m\u001b[0msheet\u001b[0m\u001b[0;34m.\u001b[0m\u001b[0mrows\u001b[0m\u001b[0;34m)\u001b[0m\u001b[0;34m:\u001b[0m\u001b[0;34m\u001b[0m\u001b[0;34m\u001b[0m\u001b[0m\n\u001b[0m\u001b[1;32m    616\u001b[0m             \u001b[0mconverted_row\u001b[0m \u001b[0;34m=\u001b[0m \u001b[0;34m[\u001b[0m\u001b[0mself\u001b[0m\u001b[0;34m.\u001b[0m\u001b[0m_convert_cell\u001b[0m\u001b[0;34m(\u001b[0m\u001b[0mcell\u001b[0m\u001b[0;34m)\u001b[0m \u001b[0;32mfor\u001b[0m \u001b[0mcell\u001b[0m \u001b[0;32min\u001b[0m \u001b[0mrow\u001b[0m\u001b[0;34m]\u001b[0m\u001b[0;34m\u001b[0m\u001b[0;34m\u001b[0m\u001b[0m\n\u001b[1;32m    617\u001b[0m             \u001b[0;32mwhile\u001b[0m \u001b[0mconverted_row\u001b[0m \u001b[0;32mand\u001b[0m \u001b[0mconverted_row\u001b[0m\u001b[0;34m[\u001b[0m\u001b[0;34m-\u001b[0m\u001b[0;36m1\u001b[0m\u001b[0;34m]\u001b[0m \u001b[0;34m==\u001b[0m \u001b[0;34m\"\"\u001b[0m\u001b[0;34m:\u001b[0m\u001b[0;34m\u001b[0m\u001b[0;34m\u001b[0m\u001b[0m\n",
            "\u001b[0;32m/usr/local/lib/python3.11/dist-packages/openpyxl/worksheet/_read_only.py\u001b[0m in \u001b[0;36m_cells_by_row\u001b[0;34m(self, min_col, min_row, max_col, max_row, values_only)\u001b[0m\n\u001b[1;32m     83\u001b[0m                                      timedelta_formats=self.parent._timedelta_formats)\n\u001b[1;32m     84\u001b[0m \u001b[0;34m\u001b[0m\u001b[0m\n\u001b[0;32m---> 85\u001b[0;31m             \u001b[0;32mfor\u001b[0m \u001b[0midx\u001b[0m\u001b[0;34m,\u001b[0m \u001b[0mrow\u001b[0m \u001b[0;32min\u001b[0m \u001b[0mparser\u001b[0m\u001b[0;34m.\u001b[0m\u001b[0mparse\u001b[0m\u001b[0;34m(\u001b[0m\u001b[0;34m)\u001b[0m\u001b[0;34m:\u001b[0m\u001b[0;34m\u001b[0m\u001b[0;34m\u001b[0m\u001b[0m\n\u001b[0m\u001b[1;32m     86\u001b[0m                 \u001b[0;32mif\u001b[0m \u001b[0mmax_row\u001b[0m \u001b[0;32mis\u001b[0m \u001b[0;32mnot\u001b[0m \u001b[0;32mNone\u001b[0m \u001b[0;32mand\u001b[0m \u001b[0midx\u001b[0m \u001b[0;34m>\u001b[0m \u001b[0mmax_row\u001b[0m\u001b[0;34m:\u001b[0m\u001b[0;34m\u001b[0m\u001b[0;34m\u001b[0m\u001b[0m\n\u001b[1;32m     87\u001b[0m                     \u001b[0;32mbreak\u001b[0m\u001b[0;34m\u001b[0m\u001b[0;34m\u001b[0m\u001b[0m\n",
            "\u001b[0;32m/usr/local/lib/python3.11/dist-packages/openpyxl/worksheet/_reader.py\u001b[0m in \u001b[0;36mparse\u001b[0;34m(self)\u001b[0m\n\u001b[1;32m    165\u001b[0m                 \u001b[0melement\u001b[0m\u001b[0;34m.\u001b[0m\u001b[0mclear\u001b[0m\u001b[0;34m(\u001b[0m\u001b[0;34m)\u001b[0m\u001b[0;34m\u001b[0m\u001b[0;34m\u001b[0m\u001b[0m\n\u001b[1;32m    166\u001b[0m             \u001b[0;32melif\u001b[0m \u001b[0mtag_name\u001b[0m \u001b[0;34m==\u001b[0m \u001b[0mROW_TAG\u001b[0m\u001b[0;34m:\u001b[0m\u001b[0;34m\u001b[0m\u001b[0;34m\u001b[0m\u001b[0m\n\u001b[0;32m--> 167\u001b[0;31m                 \u001b[0mrow\u001b[0m \u001b[0;34m=\u001b[0m \u001b[0mself\u001b[0m\u001b[0;34m.\u001b[0m\u001b[0mparse_row\u001b[0m\u001b[0;34m(\u001b[0m\u001b[0melement\u001b[0m\u001b[0;34m)\u001b[0m\u001b[0;34m\u001b[0m\u001b[0;34m\u001b[0m\u001b[0m\n\u001b[0m\u001b[1;32m    168\u001b[0m                 \u001b[0melement\u001b[0m\u001b[0;34m.\u001b[0m\u001b[0mclear\u001b[0m\u001b[0;34m(\u001b[0m\u001b[0;34m)\u001b[0m\u001b[0;34m\u001b[0m\u001b[0;34m\u001b[0m\u001b[0m\n\u001b[1;32m    169\u001b[0m                 \u001b[0;32myield\u001b[0m \u001b[0mrow\u001b[0m\u001b[0;34m\u001b[0m\u001b[0;34m\u001b[0m\u001b[0m\n",
            "\u001b[0;32m/usr/local/lib/python3.11/dist-packages/openpyxl/worksheet/_reader.py\u001b[0m in \u001b[0;36mparse_row\u001b[0;34m(self, row)\u001b[0m\n\u001b[1;32m    301\u001b[0m             \u001b[0mself\u001b[0m\u001b[0;34m.\u001b[0m\u001b[0mrow_dimensions\u001b[0m\u001b[0;34m[\u001b[0m\u001b[0mstr\u001b[0m\u001b[0;34m(\u001b[0m\u001b[0mself\u001b[0m\u001b[0;34m.\u001b[0m\u001b[0mrow_counter\u001b[0m\u001b[0;34m)\u001b[0m\u001b[0;34m]\u001b[0m \u001b[0;34m=\u001b[0m \u001b[0mattrs\u001b[0m\u001b[0;34m\u001b[0m\u001b[0;34m\u001b[0m\u001b[0m\n\u001b[1;32m    302\u001b[0m \u001b[0;34m\u001b[0m\u001b[0m\n\u001b[0;32m--> 303\u001b[0;31m         \u001b[0mcells\u001b[0m \u001b[0;34m=\u001b[0m \u001b[0;34m[\u001b[0m\u001b[0mself\u001b[0m\u001b[0;34m.\u001b[0m\u001b[0mparse_cell\u001b[0m\u001b[0;34m(\u001b[0m\u001b[0mel\u001b[0m\u001b[0;34m)\u001b[0m \u001b[0;32mfor\u001b[0m \u001b[0mel\u001b[0m \u001b[0;32min\u001b[0m \u001b[0mrow\u001b[0m\u001b[0;34m]\u001b[0m\u001b[0;34m\u001b[0m\u001b[0;34m\u001b[0m\u001b[0m\n\u001b[0m\u001b[1;32m    304\u001b[0m         \u001b[0;32mreturn\u001b[0m \u001b[0mself\u001b[0m\u001b[0;34m.\u001b[0m\u001b[0mrow_counter\u001b[0m\u001b[0;34m,\u001b[0m \u001b[0mcells\u001b[0m\u001b[0;34m\u001b[0m\u001b[0;34m\u001b[0m\u001b[0m\n\u001b[1;32m    305\u001b[0m \u001b[0;34m\u001b[0m\u001b[0m\n",
            "\u001b[0;32m/usr/local/lib/python3.11/dist-packages/openpyxl/worksheet/_reader.py\u001b[0m in \u001b[0;36m<listcomp>\u001b[0;34m(.0)\u001b[0m\n\u001b[1;32m    301\u001b[0m             \u001b[0mself\u001b[0m\u001b[0;34m.\u001b[0m\u001b[0mrow_dimensions\u001b[0m\u001b[0;34m[\u001b[0m\u001b[0mstr\u001b[0m\u001b[0;34m(\u001b[0m\u001b[0mself\u001b[0m\u001b[0;34m.\u001b[0m\u001b[0mrow_counter\u001b[0m\u001b[0;34m)\u001b[0m\u001b[0;34m]\u001b[0m \u001b[0;34m=\u001b[0m \u001b[0mattrs\u001b[0m\u001b[0;34m\u001b[0m\u001b[0;34m\u001b[0m\u001b[0m\n\u001b[1;32m    302\u001b[0m \u001b[0;34m\u001b[0m\u001b[0m\n\u001b[0;32m--> 303\u001b[0;31m         \u001b[0mcells\u001b[0m \u001b[0;34m=\u001b[0m \u001b[0;34m[\u001b[0m\u001b[0mself\u001b[0m\u001b[0;34m.\u001b[0m\u001b[0mparse_cell\u001b[0m\u001b[0;34m(\u001b[0m\u001b[0mel\u001b[0m\u001b[0;34m)\u001b[0m \u001b[0;32mfor\u001b[0m \u001b[0mel\u001b[0m \u001b[0;32min\u001b[0m \u001b[0mrow\u001b[0m\u001b[0;34m]\u001b[0m\u001b[0;34m\u001b[0m\u001b[0;34m\u001b[0m\u001b[0m\n\u001b[0m\u001b[1;32m    304\u001b[0m         \u001b[0;32mreturn\u001b[0m \u001b[0mself\u001b[0m\u001b[0;34m.\u001b[0m\u001b[0mrow_counter\u001b[0m\u001b[0;34m,\u001b[0m \u001b[0mcells\u001b[0m\u001b[0;34m\u001b[0m\u001b[0;34m\u001b[0m\u001b[0m\n\u001b[1;32m    305\u001b[0m \u001b[0;34m\u001b[0m\u001b[0m\n",
            "\u001b[0;32m/usr/local/lib/python3.11/dist-packages/openpyxl/worksheet/_reader.py\u001b[0m in \u001b[0;36mparse_cell\u001b[0;34m(self, element)\u001b[0m\n\u001b[1;32m    200\u001b[0m \u001b[0;34m\u001b[0m\u001b[0m\n\u001b[1;32m    201\u001b[0m         \u001b[0;32mif\u001b[0m \u001b[0mcoordinate\u001b[0m\u001b[0;34m:\u001b[0m\u001b[0;34m\u001b[0m\u001b[0;34m\u001b[0m\u001b[0m\n\u001b[0;32m--> 202\u001b[0;31m             \u001b[0mrow\u001b[0m\u001b[0;34m,\u001b[0m \u001b[0mcolumn\u001b[0m \u001b[0;34m=\u001b[0m \u001b[0mcoordinate_to_tuple\u001b[0m\u001b[0;34m(\u001b[0m\u001b[0mcoordinate\u001b[0m\u001b[0;34m)\u001b[0m\u001b[0;34m\u001b[0m\u001b[0;34m\u001b[0m\u001b[0m\n\u001b[0m\u001b[1;32m    203\u001b[0m             \u001b[0mself\u001b[0m\u001b[0;34m.\u001b[0m\u001b[0mcol_counter\u001b[0m \u001b[0;34m=\u001b[0m \u001b[0mcolumn\u001b[0m\u001b[0;34m\u001b[0m\u001b[0;34m\u001b[0m\u001b[0m\n\u001b[1;32m    204\u001b[0m         \u001b[0;32melse\u001b[0m\u001b[0;34m:\u001b[0m\u001b[0;34m\u001b[0m\u001b[0;34m\u001b[0m\u001b[0m\n",
            "\u001b[0;32m/usr/local/lib/python3.11/dist-packages/openpyxl/utils/cell.py\u001b[0m in \u001b[0;36mcoordinate_to_tuple\u001b[0;34m(coordinate)\u001b[0m\n\u001b[1;32m    204\u001b[0m \u001b[0;34m\u001b[0m\u001b[0m\n\u001b[1;32m    205\u001b[0m \u001b[0;34m\u001b[0m\u001b[0m\n\u001b[0;32m--> 206\u001b[0;31m \u001b[0;32mdef\u001b[0m \u001b[0mcoordinate_to_tuple\u001b[0m\u001b[0;34m(\u001b[0m\u001b[0mcoordinate\u001b[0m\u001b[0;34m)\u001b[0m\u001b[0;34m:\u001b[0m\u001b[0;34m\u001b[0m\u001b[0;34m\u001b[0m\u001b[0m\n\u001b[0m\u001b[1;32m    207\u001b[0m     \"\"\"\n\u001b[1;32m    208\u001b[0m     \u001b[0mConvert\u001b[0m \u001b[0man\u001b[0m \u001b[0mExcel\u001b[0m \u001b[0mstyle\u001b[0m \u001b[0mcoordinate\u001b[0m \u001b[0mto\u001b[0m \u001b[0;34m(\u001b[0m\u001b[0mrow\u001b[0m\u001b[0;34m,\u001b[0m \u001b[0mcolumn\u001b[0m\u001b[0;34m)\u001b[0m \u001b[0mtuple\u001b[0m\u001b[0;34m\u001b[0m\u001b[0;34m\u001b[0m\u001b[0m\n",
            "\u001b[0;31mKeyboardInterrupt\u001b[0m: "
          ]
        }
      ],
      "source": [
        "from google.colab import drive\n",
        "drive.mount('/content/drive')\n",
        "\n",
        "!pip install openpyxl pandas\n",
        "\n",
        "import pandas as pd\n",
        "\n",
        "df_list = []\n",
        "\n",
        "# Adjust this path according to your real Drive location:\n",
        "base_path = '/content/drive/MyDrive/Untitled folder/file'  # without number and extension\n",
        "\n",
        "# Adjust this range (1, 36) to your actual number of files (e.g., 35 files):\n",
        "for i in range(1, 36):\n",
        "    file_path = f\"{base_path}{i}.xlsx\"\n",
        "    try:\n",
        "        print(f\"Reading file: {file_path}\")\n",
        "        temp_df = pd.read_excel(f\"{base_path}{i}.xlsx\", engine='openpyxl')\n",
        "        df_list.append(temp_df)\n",
        "    except FileNotFoundError:\n",
        "        print(f\"File not found: {base_path}{i}.xlsx. Skipping this file.\")\n",
        "\n",
        "# Combine into a single DataFrame\n",
        "if df_list:\n",
        "    combined_df = pd.concat(df_list, ignore_index=True)\n",
        "    combined_df.to_csv('/content/drive/MyDrive/combined_file2.csv', index=False, encoding='utf-8-sig')\n",
        "    print(\"CSV file successfully created!\")\n",
        "else:\n",
        "    print(\"No files loaded. Please check your file paths.\")"
      ]
    },
    {
      "cell_type": "code",
      "execution_count": null,
      "metadata": {
        "colab": {
          "base_uri": "https://localhost:8080/"
        },
        "id": "eG5wTYEcylt7",
        "outputId": "fbf66840-7885-4fbf-b217-960151dad4eb"
      },
      "outputs": [
        {
          "name": "stdout",
          "output_type": "stream",
          "text": [
            "Drive already mounted at /content/drive; to attempt to forcibly remount, call drive.mount(\"/content/drive\", force_remount=True).\n",
            "Requirement already satisfied: openpyxl in /usr/local/lib/python3.11/dist-packages (3.1.5)\n",
            "Requirement already satisfied: pandas in /usr/local/lib/python3.11/dist-packages (2.2.2)\n",
            "Requirement already satisfied: et-xmlfile in /usr/local/lib/python3.11/dist-packages (from openpyxl) (2.0.0)\n",
            "Requirement already satisfied: numpy>=1.23.2 in /usr/local/lib/python3.11/dist-packages (from pandas) (1.26.4)\n",
            "Requirement already satisfied: python-dateutil>=2.8.2 in /usr/local/lib/python3.11/dist-packages (from pandas) (2.8.2)\n",
            "Requirement already satisfied: pytz>=2020.1 in /usr/local/lib/python3.11/dist-packages (from pandas) (2025.1)\n",
            "Requirement already satisfied: tzdata>=2022.7 in /usr/local/lib/python3.11/dist-packages (from pandas) (2025.1)\n",
            "Requirement already satisfied: six>=1.5 in /usr/local/lib/python3.11/dist-packages (from python-dateutil>=2.8.2->pandas) (1.17.0)\n",
            "Reading /content/drive/MyDrive/Untitled folder/file1.xlsx\n",
            "Reading /content/drive/MyDrive/Untitled folder/file2.xlsx\n",
            "Reading /content/drive/MyDrive/Untitled folder/file3.xlsx\n",
            "Reading /content/drive/MyDrive/Untitled folder/file4.xlsx\n",
            "Reading /content/drive/MyDrive/Untitled folder/file5.xlsx\n",
            "Reading /content/drive/MyDrive/Untitled folder/file6.xlsx\n",
            "Reading /content/drive/MyDrive/Untitled folder/file7.xlsx\n",
            "Reading /content/drive/MyDrive/Untitled folder/file8.xlsx\n",
            "Reading /content/drive/MyDrive/Untitled folder/file9.xlsx\n",
            "Reading /content/drive/MyDrive/Untitled folder/file10.xlsx\n",
            "Reading /content/drive/MyDrive/Untitled folder/file11.xlsx\n",
            "Reading /content/drive/MyDrive/Untitled folder/file12.xlsx\n",
            "Reading /content/drive/MyDrive/Untitled folder/file13.xlsx\n",
            "Reading /content/drive/MyDrive/Untitled folder/file14.xlsx\n",
            "Reading /content/drive/MyDrive/Untitled folder/file15.xlsx\n",
            "Reading /content/drive/MyDrive/Untitled folder/file16.xlsx\n",
            "Reading /content/drive/MyDrive/Untitled folder/file17.xlsx\n",
            "Reading /content/drive/MyDrive/Untitled folder/file18.xlsx\n",
            "Reading /content/drive/MyDrive/Untitled folder/file19.xlsx\n",
            "Reading /content/drive/MyDrive/Untitled folder/file20.xlsx\n",
            "Reading /content/drive/MyDrive/Untitled folder/file21.xlsx\n",
            "Reading /content/drive/MyDrive/Untitled folder/file22.xlsx\n",
            "Reading /content/drive/MyDrive/Untitled folder/file23.xlsx\n",
            "Reading /content/drive/MyDrive/Untitled folder/file24.xlsx\n",
            "Reading /content/drive/MyDrive/Untitled folder/file25.xlsx\n",
            "Reading /content/drive/MyDrive/Untitled folder/file26.xlsx\n",
            "Reading /content/drive/MyDrive/Untitled folder/file27.xlsx\n",
            "Reading /content/drive/MyDrive/Untitled folder/file28.xlsx\n",
            "Reading /content/drive/MyDrive/Untitled folder/file29.xlsx\n",
            "Reading /content/drive/MyDrive/Untitled folder/file30.xlsx\n",
            "Reading /content/drive/MyDrive/Untitled folder/file31.xlsx\n",
            "Reading /content/drive/MyDrive/Untitled folder/file32.xlsx\n",
            "Reading /content/drive/MyDrive/Untitled folder/file33.xlsx\n",
            "Reading /content/drive/MyDrive/Untitled folder/file34.xlsx\n",
            "Reading /content/drive/MyDrive/Untitled folder/file35.xlsx\n"
          ]
        }
      ],
      "source": [
        "from google.colab import drive\n",
        "drive.mount('/content/drive')\n",
        "\n",
        "!pip install openpyxl pandas\n",
        "\n",
        "import pandas as pd\n",
        "\n",
        "df_list = []\n",
        "\n",
        "base_path = '/content/drive/MyDrive/Untitled folder/file'  # Replace with your exact path\n",
        "\n",
        "# Adjust file numbering as needed (example: files 1.xlsx through 35.xlsx)\n",
        "for i in range(1, 36):\n",
        "    file_path = f\"{base_path}{i}.xlsx\"\n",
        "    try:\n",
        "        print(f\"Reading {file_path}\")\n",
        "        if i == 1:\n",
        "            # First file, keep header\n",
        "            temp_df = pd.read_excel(file_path, engine='openpyxl')\n",
        "        else:\n",
        "            # Skip first row (header) in all other files\n",
        "            temp_df = pd.read_excel(file_path, engine='openpyxl', skiprows=1)\n",
        "\n",
        "        df_list.append(temp_df)\n",
        "    except FileNotFoundError:\n",
        "        print(f\"{file_path} not found, skipping.\")\n",
        "\n",
        "# Combine all dataframes into a single DataFrame\n",
        "combined_df = pd.concat(df_list, ignore_index=True)\n",
        "\n",
        "# Save combined data to a CSV file\n",
        "combined_df.to_csv('/content/drive/MyDrive/combined_file.csv', index=False)\n",
        "\n",
        "print(\"CSV file successfully created!\")"
      ]
    },
    {
      "cell_type": "code",
      "execution_count": null,
      "metadata": {
        "colab": {
          "base_uri": "https://localhost:8080/"
        },
        "id": "BK5ir1Ui6szh",
        "outputId": "13780498-c1ad-494e-975f-4bacc1b4aef2"
      },
      "outputs": [
        {
          "name": "stdout",
          "output_type": "stream",
          "text": [
            "Drive already mounted at /content/drive; to attempt to forcibly remount, call drive.mount(\"/content/drive\", force_remount=True).\n",
            "Requirement already satisfied: openpyxl in /usr/local/lib/python3.11/dist-packages (3.1.5)\n",
            "Requirement already satisfied: pandas in /usr/local/lib/python3.11/dist-packages (2.2.2)\n",
            "Requirement already satisfied: et-xmlfile in /usr/local/lib/python3.11/dist-packages (from openpyxl) (2.0.0)\n",
            "Requirement already satisfied: numpy>=1.23.2 in /usr/local/lib/python3.11/dist-packages (from pandas) (1.26.4)\n",
            "Requirement already satisfied: python-dateutil>=2.8.2 in /usr/local/lib/python3.11/dist-packages (from pandas) (2.8.2)\n",
            "Requirement already satisfied: pytz>=2020.1 in /usr/local/lib/python3.11/dist-packages (from pandas) (2025.1)\n",
            "Requirement already satisfied: tzdata>=2022.7 in /usr/local/lib/python3.11/dist-packages (from pandas) (2025.1)\n",
            "Requirement already satisfied: six>=1.5 in /usr/local/lib/python3.11/dist-packages (from python-dateutil>=2.8.2->pandas) (1.17.0)\n",
            "Reading file: /content/drive/MyDrive/Untitled folder/file1.xlsx\n",
            "Reading file: /content/drive/MyDrive/Untitled folder/file2.xlsx\n",
            "Reading file: /content/drive/MyDrive/Untitled folder/file3.xlsx\n",
            "Reading file: /content/drive/MyDrive/Untitled folder/file4.xlsx\n",
            "Reading file: /content/drive/MyDrive/Untitled folder/file5.xlsx\n",
            "Reading file: /content/drive/MyDrive/Untitled folder/file6.xlsx\n",
            "Reading file: /content/drive/MyDrive/Untitled folder/file7.xlsx\n",
            "Reading file: /content/drive/MyDrive/Untitled folder/file8.xlsx\n",
            "Reading file: /content/drive/MyDrive/Untitled folder/file9.xlsx\n",
            "Reading file: /content/drive/MyDrive/Untitled folder/file10.xlsx\n",
            "Reading file: /content/drive/MyDrive/Untitled folder/file11.xlsx\n",
            "Reading file: /content/drive/MyDrive/Untitled folder/file12.xlsx\n",
            "Reading file: /content/drive/MyDrive/Untitled folder/file13.xlsx\n",
            "Reading file: /content/drive/MyDrive/Untitled folder/file14.xlsx\n",
            "Reading file: /content/drive/MyDrive/Untitled folder/file15.xlsx\n",
            "Reading file: /content/drive/MyDrive/Untitled folder/file16.xlsx\n",
            "Reading file: /content/drive/MyDrive/Untitled folder/file17.xlsx\n",
            "Reading file: /content/drive/MyDrive/Untitled folder/file18.xlsx\n",
            "Reading file: /content/drive/MyDrive/Untitled folder/file19.xlsx\n",
            "Reading file: /content/drive/MyDrive/Untitled folder/file20.xlsx\n",
            "Reading file: /content/drive/MyDrive/Untitled folder/file21.xlsx\n",
            "Reading file: /content/drive/MyDrive/Untitled folder/file22.xlsx\n",
            "Reading file: /content/drive/MyDrive/Untitled folder/file23.xlsx\n",
            "Reading file: /content/drive/MyDrive/Untitled folder/file24.xlsx\n",
            "Reading file: /content/drive/MyDrive/Untitled folder/file25.xlsx\n",
            "Reading file: /content/drive/MyDrive/Untitled folder/file26.xlsx\n",
            "Reading file: /content/drive/MyDrive/Untitled folder/file27.xlsx\n",
            "Reading file: /content/drive/MyDrive/Untitled folder/file28.xlsx\n",
            "Reading file: /content/drive/MyDrive/Untitled folder/file29.xlsx\n",
            "Reading file: /content/drive/MyDrive/Untitled folder/file30.xlsx\n",
            "Reading file: /content/drive/MyDrive/Untitled folder/file31.xlsx\n",
            "Reading file: /content/drive/MyDrive/Untitled folder/file32.xlsx\n",
            "Reading file: /content/drive/MyDrive/Untitled folder/file33.xlsx\n",
            "Reading file: /content/drive/MyDrive/Untitled folder/file34.xlsx\n",
            "Reading file: /content/drive/MyDrive/Untitled folder/file35.xlsx\n",
            "35 files read successfully.\n"
          ]
        }
      ],
      "source": [
        "from google.colab import drive\n",
        "drive.mount('/content/drive')\n",
        "\n",
        "!pip install openpyxl pandas\n",
        "\n",
        "import pandas as pd\n",
        "import os\n",
        "\n",
        "df_list = []\n",
        "\n",
        "base_folder = '/content/drive/MyDrive/Untitled folder'\n",
        "file_template = 'file{}.xlsx'  # File naming pattern\n",
        "\n",
        "for i in range(1, 36):\n",
        "    file_path = os.path.join(base_folder, f\"file{i}.xlsx\")\n",
        "    if os.path.exists(file_path):\n",
        "        print(f\"Reading file: {file_path}\")\n",
        "        if i == 1:\n",
        "            temp_df = pd.read_excel(file_path, engine='openpyxl')\n",
        "        else:\n",
        "            temp_df = pd.read_excel(file_path, engine='openpyxl', skiprows=1)\n",
        "        df_list.append(temp_df)\n",
        "    else:\n",
        "        print(f\"{file_path} not found, skipping.\")\n",
        "\n",
        "# Check how many files were read\n",
        "print(f\"{len(df_list)} files read successfully.\")\n",
        "\n",
        "# Concatenate all DataFrames if not empty\n",
        "if df_list:\n",
        "    combined_df = pd.concat(df_list, ignore_index=True)\n",
        "    csv_path = '/content/drive/MyDrive/combined_final.csv'\n",
        "    combined_df.to_csv(csv_path, index=False, encoding='utf-8-sig')\n",
        "    print(f\"Combined CSV created at: {csv_path}\")\n",
        "else:\n",
        "    print(\"No files were loaded; please verify your paths.\")"
      ]
    },
    {
      "cell_type": "code",
      "execution_count": null,
      "metadata": {
        "colab": {
          "base_uri": "https://localhost:8080/"
        },
        "id": "v2WtOKcleQiB",
        "outputId": "055f9908-382b-4535-9c40-20caefcc28cf"
      },
      "outputs": [
        {
          "name": "stdout",
          "output_type": "stream",
          "text": [
            "Drive already mounted at /content/drive; to attempt to forcibly remount, call drive.mount(\"/content/drive\", force_remount=True).\n",
            "Requirement already satisfied: openpyxl in /usr/local/lib/python3.11/dist-packages (3.1.5)\n",
            "Requirement already satisfied: pandas in /usr/local/lib/python3.11/dist-packages (2.2.2)\n",
            "Requirement already satisfied: et-xmlfile in /usr/local/lib/python3.11/dist-packages (from openpyxl) (2.0.0)\n",
            "Requirement already satisfied: numpy>=1.23.2 in /usr/local/lib/python3.11/dist-packages (from pandas) (1.26.4)\n",
            "Requirement already satisfied: python-dateutil>=2.8.2 in /usr/local/lib/python3.11/dist-packages (from pandas) (2.8.2)\n",
            "Requirement already satisfied: pytz>=2020.1 in /usr/local/lib/python3.11/dist-packages (from pandas) (2025.1)\n",
            "Requirement already satisfied: tzdata>=2022.7 in /usr/local/lib/python3.11/dist-packages (from pandas) (2025.1)\n",
            "Requirement already satisfied: six>=1.5 in /usr/local/lib/python3.11/dist-packages (from python-dateutil>=2.8.2->pandas) (1.17.0)\n",
            "Reading: /content/drive/MyDrive/Untitled folder/file1.xlsx\n",
            "✅ Saved as /content/drive/MyDrive/csv_converted/file1.csv\n",
            "Reading: /content/drive/MyDrive/Untitled folder/file2.xlsx\n",
            "✅ Saved as /content/drive/MyDrive/csv_converted/file2.csv\n",
            "Reading: /content/drive/MyDrive/Untitled folder/file3.xlsx\n",
            "✅ Saved as /content/drive/MyDrive/csv_converted/file3.csv\n",
            "Reading: /content/drive/MyDrive/Untitled folder/file4.xlsx\n",
            "✅ Saved as /content/drive/MyDrive/csv_converted/file4.csv\n",
            "Reading: /content/drive/MyDrive/Untitled folder/file5.xlsx\n",
            "✅ Saved as /content/drive/MyDrive/csv_converted/file5.csv\n",
            "Reading: /content/drive/MyDrive/Untitled folder/file6.xlsx\n",
            "✅ Saved as /content/drive/MyDrive/csv_converted/file6.csv\n",
            "Reading: /content/drive/MyDrive/Untitled folder/file7.xlsx\n",
            "✅ Saved as /content/drive/MyDrive/csv_converted/file7.csv\n",
            "Reading: /content/drive/MyDrive/Untitled folder/file8.xlsx\n",
            "✅ Saved as /content/drive/MyDrive/csv_converted/file8.csv\n",
            "Reading: /content/drive/MyDrive/Untitled folder/file9.xlsx\n",
            "✅ Saved as /content/drive/MyDrive/csv_converted/file9.csv\n",
            "Reading: /content/drive/MyDrive/Untitled folder/file10.xlsx\n",
            "✅ Saved as /content/drive/MyDrive/csv_converted/file10.csv\n",
            "Reading: /content/drive/MyDrive/Untitled folder/file11.xlsx\n",
            "✅ Saved as /content/drive/MyDrive/csv_converted/file11.csv\n",
            "Reading: /content/drive/MyDrive/Untitled folder/file12.xlsx\n",
            "✅ Saved as /content/drive/MyDrive/csv_converted/file12.csv\n",
            "Reading: /content/drive/MyDrive/Untitled folder/file13.xlsx\n",
            "✅ Saved as /content/drive/MyDrive/csv_converted/file13.csv\n",
            "Reading: /content/drive/MyDrive/Untitled folder/file14.xlsx\n",
            "✅ Saved as /content/drive/MyDrive/csv_converted/file14.csv\n",
            "Reading: /content/drive/MyDrive/Untitled folder/file15.xlsx\n",
            "✅ Saved as /content/drive/MyDrive/csv_converted/file15.csv\n",
            "Reading: /content/drive/MyDrive/Untitled folder/file16.xlsx\n",
            "✅ Saved as /content/drive/MyDrive/csv_converted/file16.csv\n",
            "Reading: /content/drive/MyDrive/Untitled folder/file17.xlsx\n",
            "✅ Saved as /content/drive/MyDrive/csv_converted/file17.csv\n",
            "Reading: /content/drive/MyDrive/Untitled folder/file18.xlsx\n",
            "✅ Saved as /content/drive/MyDrive/csv_converted/file18.csv\n",
            "Reading: /content/drive/MyDrive/Untitled folder/file19.xlsx\n",
            "✅ Saved as /content/drive/MyDrive/csv_converted/file19.csv\n",
            "Reading: /content/drive/MyDrive/Untitled folder/file20.xlsx\n",
            "✅ Saved as /content/drive/MyDrive/csv_converted/file20.csv\n",
            "Reading: /content/drive/MyDrive/Untitled folder/file21.xlsx\n",
            "✅ Saved as /content/drive/MyDrive/csv_converted/file21.csv\n",
            "Reading: /content/drive/MyDrive/Untitled folder/file22.xlsx\n",
            "✅ Saved as /content/drive/MyDrive/csv_converted/file22.csv\n",
            "Reading: /content/drive/MyDrive/Untitled folder/file23.xlsx\n",
            "✅ Saved as /content/drive/MyDrive/csv_converted/file23.csv\n",
            "Reading: /content/drive/MyDrive/Untitled folder/file24.xlsx\n",
            "✅ Saved as /content/drive/MyDrive/csv_converted/file24.csv\n",
            "Reading: /content/drive/MyDrive/Untitled folder/file25.xlsx\n",
            "✅ Saved as /content/drive/MyDrive/csv_converted/file25.csv\n",
            "Reading: /content/drive/MyDrive/Untitled folder/file26.xlsx\n",
            "✅ Saved as /content/drive/MyDrive/csv_converted/file26.csv\n",
            "Reading: /content/drive/MyDrive/Untitled folder/file27.xlsx\n",
            "✅ Saved as /content/drive/MyDrive/csv_converted/file27.csv\n",
            "Reading: /content/drive/MyDrive/Untitled folder/file28.xlsx\n",
            "✅ Saved as /content/drive/MyDrive/csv_converted/file28.csv\n",
            "Reading: /content/drive/MyDrive/Untitled folder/file29.xlsx\n",
            "✅ Saved as /content/drive/MyDrive/csv_converted/file29.csv\n",
            "Reading: /content/drive/MyDrive/Untitled folder/file30.xlsx\n",
            "✅ Saved as /content/drive/MyDrive/csv_converted/file30.csv\n",
            "Reading: /content/drive/MyDrive/Untitled folder/file31.xlsx\n",
            "✅ Saved as /content/drive/MyDrive/csv_converted/file31.csv\n",
            "Reading: /content/drive/MyDrive/Untitled folder/file32.xlsx\n",
            "✅ Saved as /content/drive/MyDrive/csv_converted/file32.csv\n",
            "Reading: /content/drive/MyDrive/Untitled folder/file33.xlsx\n",
            "✅ Saved as /content/drive/MyDrive/csv_converted/file33.csv\n",
            "Reading: /content/drive/MyDrive/Untitled folder/file34.xlsx\n",
            "✅ Saved as /content/drive/MyDrive/csv_converted/file34.csv\n",
            "Reading: /content/drive/MyDrive/Untitled folder/file35.xlsx\n",
            "✅ Saved as /content/drive/MyDrive/csv_converted/file35.csv\n"
          ]
        }
      ],
      "source": [
        "from google.colab import drive\n",
        "drive.mount('/content/drive')\n",
        "\n",
        "!pip install openpyxl pandas\n",
        "\n",
        "import pandas as pd\n",
        "import os\n",
        "\n",
        "excel_folder = '/content/drive/MyDrive/Untitled folder/'\n",
        "csv_folder = '/content/drive/MyDrive/csv_converted/'\n",
        "\n",
        "# Ensure CSV output folder exists\n",
        "import os\n",
        "if not os.path.exists(csv_folder):\n",
        "    os.makedirs(csv_folder)\n",
        "\n",
        "# Loop over Excel files to convert\n",
        "for i in range(1, 36):\n",
        "    excel_file = f\"{excel_folder}file{i}.xlsx\"\n",
        "    csv_file = f\"{csv_folder}file{i}.csv\"\n",
        "\n",
        "    try:\n",
        "        print(f\"Reading: {excel_file}\")\n",
        "        if i == 1:\n",
        "            df = pd.read_excel(excel_file, engine='openpyxl')\n",
        "        else:\n",
        "            df = pd.read_excel(excel_file, engine='openpyxl', skiprows=1)\n",
        "\n",
        "        df.to_csv(csv_file, index=False, encoding='utf-8-sig')\n",
        "        print(f\"✅ Saved as {csv_file}\")\n",
        "\n",
        "    except Exception as e:\n",
        "        print(f\"Error reading file{i}.xlsx: {e}\")\n",
        "        continue"
      ]
    },
    {
      "cell_type": "code",
      "execution_count": null,
      "metadata": {
        "colab": {
          "base_uri": "https://localhost:8080/"
        },
        "id": "mzd-uP8rjzxw",
        "outputId": "d7973f78-a3e1-40b4-cd82-cc8ab094bbd2"
      },
      "outputs": [
        {
          "name": "stdout",
          "output_type": "stream",
          "text": [
            "Drive already mounted at /content/drive; to attempt to forcibly remount, call drive.mount(\"/content/drive\", force_remount=True).\n",
            "✅ Loaded /content/drive/MyDrive/csv_converted/file1.csv\n",
            "✅ Loaded /content/drive/MyDrive/csv_converted/file2.csv\n",
            "✅ Loaded /content/drive/MyDrive/csv_converted/file3.csv\n",
            "✅ Loaded /content/drive/MyDrive/csv_converted/file4.csv\n"
          ]
        },
        {
          "name": "stderr",
          "output_type": "stream",
          "text": [
            "<ipython-input-5-19f2e6395b8a>:14: DtypeWarning: Columns (6) have mixed types. Specify dtype option on import or set low_memory=False.\n",
            "  temp_df = pd.read_csv(file_path)\n"
          ]
        },
        {
          "name": "stdout",
          "output_type": "stream",
          "text": [
            "✅ Loaded /content/drive/MyDrive/csv_converted/file5.csv\n",
            "✅ Loaded /content/drive/MyDrive/csv_converted/file6.csv\n",
            "✅ Loaded /content/drive/MyDrive/csv_converted/file7.csv\n",
            "✅ Loaded /content/drive/MyDrive/csv_converted/file8.csv\n",
            "✅ Loaded /content/drive/MyDrive/csv_converted/file9.csv\n"
          ]
        },
        {
          "name": "stderr",
          "output_type": "stream",
          "text": [
            "<ipython-input-5-19f2e6395b8a>:14: DtypeWarning: Columns (8) have mixed types. Specify dtype option on import or set low_memory=False.\n",
            "  temp_df = pd.read_csv(file_path)\n"
          ]
        },
        {
          "name": "stdout",
          "output_type": "stream",
          "text": [
            "✅ Loaded /content/drive/MyDrive/csv_converted/file10.csv\n",
            "✅ Loaded /content/drive/MyDrive/csv_converted/file11.csv\n",
            "✅ Loaded /content/drive/MyDrive/csv_converted/file12.csv\n",
            "✅ Loaded /content/drive/MyDrive/csv_converted/file13.csv\n",
            "✅ Loaded /content/drive/MyDrive/csv_converted/file14.csv\n"
          ]
        },
        {
          "name": "stderr",
          "output_type": "stream",
          "text": [
            "<ipython-input-5-19f2e6395b8a>:14: DtypeWarning: Columns (8) have mixed types. Specify dtype option on import or set low_memory=False.\n",
            "  temp_df = pd.read_csv(file_path)\n"
          ]
        },
        {
          "name": "stdout",
          "output_type": "stream",
          "text": [
            "✅ Loaded /content/drive/MyDrive/csv_converted/file15.csv\n"
          ]
        },
        {
          "name": "stderr",
          "output_type": "stream",
          "text": [
            "<ipython-input-5-19f2e6395b8a>:14: DtypeWarning: Columns (1,8) have mixed types. Specify dtype option on import or set low_memory=False.\n",
            "  temp_df = pd.read_csv(file_path)\n"
          ]
        },
        {
          "name": "stdout",
          "output_type": "stream",
          "text": [
            "✅ Loaded /content/drive/MyDrive/csv_converted/file16.csv\n",
            "✅ Loaded /content/drive/MyDrive/csv_converted/file17.csv\n"
          ]
        },
        {
          "name": "stderr",
          "output_type": "stream",
          "text": [
            "<ipython-input-5-19f2e6395b8a>:14: DtypeWarning: Columns (1,3,8) have mixed types. Specify dtype option on import or set low_memory=False.\n",
            "  temp_df = pd.read_csv(file_path)\n"
          ]
        },
        {
          "name": "stdout",
          "output_type": "stream",
          "text": [
            "✅ Loaded /content/drive/MyDrive/csv_converted/file18.csv\n"
          ]
        },
        {
          "name": "stderr",
          "output_type": "stream",
          "text": [
            "<ipython-input-5-19f2e6395b8a>:14: DtypeWarning: Columns (1,8) have mixed types. Specify dtype option on import or set low_memory=False.\n",
            "  temp_df = pd.read_csv(file_path)\n"
          ]
        },
        {
          "name": "stdout",
          "output_type": "stream",
          "text": [
            "✅ Loaded /content/drive/MyDrive/csv_converted/file19.csv\n"
          ]
        },
        {
          "name": "stderr",
          "output_type": "stream",
          "text": [
            "<ipython-input-5-19f2e6395b8a>:14: DtypeWarning: Columns (8) have mixed types. Specify dtype option on import or set low_memory=False.\n",
            "  temp_df = pd.read_csv(file_path)\n"
          ]
        },
        {
          "name": "stdout",
          "output_type": "stream",
          "text": [
            "✅ Loaded /content/drive/MyDrive/csv_converted/file20.csv\n",
            "✅ Loaded /content/drive/MyDrive/csv_converted/file21.csv\n",
            "✅ Loaded /content/drive/MyDrive/csv_converted/file22.csv\n"
          ]
        },
        {
          "name": "stderr",
          "output_type": "stream",
          "text": [
            "<ipython-input-5-19f2e6395b8a>:14: DtypeWarning: Columns (8) have mixed types. Specify dtype option on import or set low_memory=False.\n",
            "  temp_df = pd.read_csv(file_path)\n"
          ]
        },
        {
          "name": "stdout",
          "output_type": "stream",
          "text": [
            "✅ Loaded /content/drive/MyDrive/csv_converted/file23.csv\n"
          ]
        },
        {
          "name": "stderr",
          "output_type": "stream",
          "text": [
            "<ipython-input-5-19f2e6395b8a>:14: DtypeWarning: Columns (8) have mixed types. Specify dtype option on import or set low_memory=False.\n",
            "  temp_df = pd.read_csv(file_path)\n"
          ]
        },
        {
          "name": "stdout",
          "output_type": "stream",
          "text": [
            "✅ Loaded /content/drive/MyDrive/csv_converted/file24.csv\n"
          ]
        },
        {
          "name": "stderr",
          "output_type": "stream",
          "text": [
            "<ipython-input-5-19f2e6395b8a>:14: DtypeWarning: Columns (8) have mixed types. Specify dtype option on import or set low_memory=False.\n",
            "  temp_df = pd.read_csv(file_path)\n"
          ]
        },
        {
          "name": "stdout",
          "output_type": "stream",
          "text": [
            "✅ Loaded /content/drive/MyDrive/csv_converted/file25.csv\n"
          ]
        },
        {
          "name": "stderr",
          "output_type": "stream",
          "text": [
            "<ipython-input-5-19f2e6395b8a>:14: DtypeWarning: Columns (8) have mixed types. Specify dtype option on import or set low_memory=False.\n",
            "  temp_df = pd.read_csv(file_path)\n"
          ]
        },
        {
          "name": "stdout",
          "output_type": "stream",
          "text": [
            "✅ Loaded /content/drive/MyDrive/csv_converted/file26.csv\n"
          ]
        },
        {
          "name": "stderr",
          "output_type": "stream",
          "text": [
            "<ipython-input-5-19f2e6395b8a>:14: DtypeWarning: Columns (8) have mixed types. Specify dtype option on import or set low_memory=False.\n",
            "  temp_df = pd.read_csv(file_path)\n"
          ]
        },
        {
          "name": "stdout",
          "output_type": "stream",
          "text": [
            "✅ Loaded /content/drive/MyDrive/csv_converted/file27.csv\n",
            "✅ Loaded /content/drive/MyDrive/csv_converted/file28.csv\n",
            "✅ Loaded /content/drive/MyDrive/csv_converted/file29.csv\n",
            "✅ Loaded /content/drive/MyDrive/csv_converted/file30.csv\n"
          ]
        },
        {
          "name": "stderr",
          "output_type": "stream",
          "text": [
            "<ipython-input-5-19f2e6395b8a>:14: DtypeWarning: Columns (8) have mixed types. Specify dtype option on import or set low_memory=False.\n",
            "  temp_df = pd.read_csv(file_path)\n"
          ]
        },
        {
          "name": "stdout",
          "output_type": "stream",
          "text": [
            "✅ Loaded /content/drive/MyDrive/csv_converted/file31.csv\n"
          ]
        },
        {
          "name": "stderr",
          "output_type": "stream",
          "text": [
            "<ipython-input-5-19f2e6395b8a>:14: DtypeWarning: Columns (8) have mixed types. Specify dtype option on import or set low_memory=False.\n",
            "  temp_df = pd.read_csv(file_path)\n"
          ]
        },
        {
          "name": "stdout",
          "output_type": "stream",
          "text": [
            "✅ Loaded /content/drive/MyDrive/csv_converted/file32.csv\n",
            "✅ Loaded /content/drive/MyDrive/csv_converted/file33.csv\n",
            "✅ Loaded /content/drive/MyDrive/csv_converted/file34.csv\n"
          ]
        },
        {
          "name": "stderr",
          "output_type": "stream",
          "text": [
            "<ipython-input-5-19f2e6395b8a>:14: DtypeWarning: Columns (8) have mixed types. Specify dtype option on import or set low_memory=False.\n",
            "  temp_df = pd.read_csv(file_path)\n"
          ]
        },
        {
          "name": "stdout",
          "output_type": "stream",
          "text": [
            "✅ Loaded /content/drive/MyDrive/csv_converted/file35.csv\n"
          ]
        }
      ],
      "source": [
        "from google.colab import drive\n",
        "drive.mount('/content/drive')\n",
        "\n",
        "import pandas as pd\n",
        "import os\n",
        "\n",
        "csv_folder = '/content/drive/MyDrive/csv_converted/'\n",
        "\n",
        "df_list = []\n",
        "\n",
        "for i in range(1, 36):  # Reads files from 1.csv to 35.csv\n",
        "    file_path = f\"{csv_folder}file{i}.csv\"\n",
        "    try:\n",
        "        temp_df = pd.read_csv(file_path)\n",
        "        df_list.append(temp_df)\n",
        "        print(f\"✅ Loaded {file_path}\")\n",
        "    except FileNotFoundError:\n",
        "        print(f\"⚠️ File not found: {file_path}\")\n",
        "    except Exception as e:\n",
        "        print(f\"⚠️ Error reading {file_path}: {e}\")\n",
        "\n",
        "# After the loop, combine all DataFrames into one\n",
        "if df_list:\n",
        "    combined_df = pd.concat(df_list, ignore_index=True)\n",
        "    output_csv = '/content/drive/MyDrive/combined_final.csv'\n",
        "    combined_df.to_csv(output_csv, index=False, encoding='utf-8-sig')\n",
        "    print(f\"\\n🎉 Successfully combined CSV created at: {output_csv}\")\n",
        "else:\n",
        "    print(\"\\n⚠️ No files were loaded. Please verify paths and file names.\") #too much memory"
      ]
    },
    {
      "cell_type": "code",
      "execution_count": null,
      "metadata": {
        "colab": {
          "base_uri": "https://localhost:8080/"
        },
        "id": "SfGDWhkvp1EJ",
        "outputId": "65c41caa-ca5b-4a51-86a6-6fb9e9b2d8a4"
      },
      "outputs": [
        {
          "name": "stdout",
          "output_type": "stream",
          "text": [
            "Drive already mounted at /content/drive; to attempt to forcibly remount, call drive.mount(\"/content/drive\", force_remount=True).\n",
            "✅ Appended /content/drive/MyDrive/csv_converted/file2.csv\n",
            "✅ Appended /content/drive/MyDrive/csv_converted/file3.csv\n",
            "✅ Appended /content/drive/MyDrive/csv_converted/file4.csv\n"
          ]
        },
        {
          "name": "stderr",
          "output_type": "stream",
          "text": [
            "<ipython-input-1-0321657dcf00>:18: DtypeWarning: Columns (6) have mixed types. Specify dtype option on import or set low_memory=False.\n",
            "  temp_df = pd.read_csv(file_path)\n"
          ]
        },
        {
          "name": "stdout",
          "output_type": "stream",
          "text": [
            "✅ Appended /content/drive/MyDrive/csv_converted/file5.csv\n",
            "✅ Appended /content/drive/MyDrive/csv_converted/file6.csv\n",
            "✅ Appended /content/drive/MyDrive/csv_converted/file7.csv\n",
            "✅ Appended /content/drive/MyDrive/csv_converted/file8.csv\n",
            "✅ Appended /content/drive/MyDrive/csv_converted/file9.csv\n"
          ]
        },
        {
          "name": "stderr",
          "output_type": "stream",
          "text": [
            "<ipython-input-1-0321657dcf00>:18: DtypeWarning: Columns (8) have mixed types. Specify dtype option on import or set low_memory=False.\n",
            "  temp_df = pd.read_csv(file_path)\n"
          ]
        },
        {
          "name": "stdout",
          "output_type": "stream",
          "text": [
            "✅ Appended /content/drive/MyDrive/csv_converted/file10.csv\n",
            "✅ Appended /content/drive/MyDrive/csv_converted/file11.csv\n",
            "✅ Appended /content/drive/MyDrive/csv_converted/file12.csv\n",
            "✅ Appended /content/drive/MyDrive/csv_converted/file13.csv\n",
            "✅ Appended /content/drive/MyDrive/csv_converted/file14.csv\n"
          ]
        },
        {
          "name": "stderr",
          "output_type": "stream",
          "text": [
            "<ipython-input-1-0321657dcf00>:18: DtypeWarning: Columns (8) have mixed types. Specify dtype option on import or set low_memory=False.\n",
            "  temp_df = pd.read_csv(file_path)\n"
          ]
        },
        {
          "name": "stdout",
          "output_type": "stream",
          "text": [
            "✅ Appended /content/drive/MyDrive/csv_converted/file15.csv\n"
          ]
        },
        {
          "name": "stderr",
          "output_type": "stream",
          "text": [
            "<ipython-input-1-0321657dcf00>:18: DtypeWarning: Columns (1,8) have mixed types. Specify dtype option on import or set low_memory=False.\n",
            "  temp_df = pd.read_csv(file_path)\n"
          ]
        },
        {
          "name": "stdout",
          "output_type": "stream",
          "text": [
            "✅ Appended /content/drive/MyDrive/csv_converted/file16.csv\n",
            "✅ Appended /content/drive/MyDrive/csv_converted/file17.csv\n"
          ]
        },
        {
          "name": "stderr",
          "output_type": "stream",
          "text": [
            "<ipython-input-1-0321657dcf00>:18: DtypeWarning: Columns (1,3,8) have mixed types. Specify dtype option on import or set low_memory=False.\n",
            "  temp_df = pd.read_csv(file_path)\n"
          ]
        },
        {
          "name": "stdout",
          "output_type": "stream",
          "text": [
            "✅ Appended /content/drive/MyDrive/csv_converted/file18.csv\n"
          ]
        },
        {
          "name": "stderr",
          "output_type": "stream",
          "text": [
            "<ipython-input-1-0321657dcf00>:18: DtypeWarning: Columns (1,8) have mixed types. Specify dtype option on import or set low_memory=False.\n",
            "  temp_df = pd.read_csv(file_path)\n"
          ]
        },
        {
          "name": "stdout",
          "output_type": "stream",
          "text": [
            "✅ Appended /content/drive/MyDrive/csv_converted/file19.csv\n"
          ]
        },
        {
          "name": "stderr",
          "output_type": "stream",
          "text": [
            "<ipython-input-1-0321657dcf00>:18: DtypeWarning: Columns (8) have mixed types. Specify dtype option on import or set low_memory=False.\n",
            "  temp_df = pd.read_csv(file_path)\n"
          ]
        },
        {
          "name": "stdout",
          "output_type": "stream",
          "text": [
            "✅ Appended /content/drive/MyDrive/csv_converted/file20.csv\n",
            "✅ Appended /content/drive/MyDrive/csv_converted/file21.csv\n",
            "✅ Appended /content/drive/MyDrive/csv_converted/file22.csv\n"
          ]
        },
        {
          "name": "stderr",
          "output_type": "stream",
          "text": [
            "<ipython-input-1-0321657dcf00>:18: DtypeWarning: Columns (8) have mixed types. Specify dtype option on import or set low_memory=False.\n",
            "  temp_df = pd.read_csv(file_path)\n"
          ]
        },
        {
          "name": "stdout",
          "output_type": "stream",
          "text": [
            "✅ Appended /content/drive/MyDrive/csv_converted/file23.csv\n"
          ]
        },
        {
          "name": "stderr",
          "output_type": "stream",
          "text": [
            "<ipython-input-1-0321657dcf00>:18: DtypeWarning: Columns (8) have mixed types. Specify dtype option on import or set low_memory=False.\n",
            "  temp_df = pd.read_csv(file_path)\n"
          ]
        },
        {
          "name": "stdout",
          "output_type": "stream",
          "text": [
            "✅ Appended /content/drive/MyDrive/csv_converted/file24.csv\n"
          ]
        },
        {
          "name": "stderr",
          "output_type": "stream",
          "text": [
            "<ipython-input-1-0321657dcf00>:18: DtypeWarning: Columns (8) have mixed types. Specify dtype option on import or set low_memory=False.\n",
            "  temp_df = pd.read_csv(file_path)\n"
          ]
        },
        {
          "name": "stdout",
          "output_type": "stream",
          "text": [
            "✅ Appended /content/drive/MyDrive/csv_converted/file25.csv\n"
          ]
        },
        {
          "name": "stderr",
          "output_type": "stream",
          "text": [
            "<ipython-input-1-0321657dcf00>:18: DtypeWarning: Columns (8) have mixed types. Specify dtype option on import or set low_memory=False.\n",
            "  temp_df = pd.read_csv(file_path)\n"
          ]
        },
        {
          "name": "stdout",
          "output_type": "stream",
          "text": [
            "✅ Appended /content/drive/MyDrive/csv_converted/file26.csv\n"
          ]
        },
        {
          "name": "stderr",
          "output_type": "stream",
          "text": [
            "<ipython-input-1-0321657dcf00>:18: DtypeWarning: Columns (8) have mixed types. Specify dtype option on import or set low_memory=False.\n",
            "  temp_df = pd.read_csv(file_path)\n"
          ]
        },
        {
          "name": "stdout",
          "output_type": "stream",
          "text": [
            "✅ Appended /content/drive/MyDrive/csv_converted/file27.csv\n",
            "✅ Appended /content/drive/MyDrive/csv_converted/file28.csv\n",
            "✅ Appended /content/drive/MyDrive/csv_converted/file29.csv\n",
            "✅ Appended /content/drive/MyDrive/csv_converted/file30.csv\n"
          ]
        },
        {
          "name": "stderr",
          "output_type": "stream",
          "text": [
            "<ipython-input-1-0321657dcf00>:18: DtypeWarning: Columns (8) have mixed types. Specify dtype option on import or set low_memory=False.\n",
            "  temp_df = pd.read_csv(file_path)\n"
          ]
        },
        {
          "name": "stdout",
          "output_type": "stream",
          "text": [
            "✅ Appended /content/drive/MyDrive/csv_converted/file31.csv\n"
          ]
        },
        {
          "name": "stderr",
          "output_type": "stream",
          "text": [
            "<ipython-input-1-0321657dcf00>:18: DtypeWarning: Columns (8) have mixed types. Specify dtype option on import or set low_memory=False.\n",
            "  temp_df = pd.read_csv(file_path)\n"
          ]
        },
        {
          "name": "stdout",
          "output_type": "stream",
          "text": [
            "✅ Appended /content/drive/MyDrive/csv_converted/file32.csv\n",
            "✅ Appended /content/drive/MyDrive/csv_converted/file33.csv\n",
            "✅ Appended /content/drive/MyDrive/csv_converted/file34.csv\n"
          ]
        },
        {
          "name": "stderr",
          "output_type": "stream",
          "text": [
            "<ipython-input-1-0321657dcf00>:18: DtypeWarning: Columns (8) have mixed types. Specify dtype option on import or set low_memory=False.\n",
            "  temp_df = pd.read_csv(file_path)\n"
          ]
        },
        {
          "name": "stdout",
          "output_type": "stream",
          "text": [
            "✅ Appended /content/drive/MyDrive/csv_converted/file35.csv\n",
            "🎉 All files combined successfully into a CSV without memory overload.\n"
          ]
        }
      ],
      "source": [
        "from google.colab import drive\n",
        "drive.mount('/content/drive')\n",
        "\n",
        "import pandas as pd\n",
        "\n",
        "csv_folder = '/content/drive/MyDrive/csv_converted/'\n",
        "final_csv = '/content/drive/MyDrive/final_combined.csv'\n",
        "\n",
        "# Start by creating an empty CSV with the first file\n",
        "first_file = f'{csv_folder}file1.csv'\n",
        "combined_df = pd.read_csv(first_file)\n",
        "combined_df.to_csv('/content/drive/MyDrive/combined_final.csv', index=False, encoding='utf-8-sig')\n",
        "\n",
        "# Append the rest one by one without loading them all at once\n",
        "for i in range(2, 36):  # start from file2.csv\n",
        "    file_path = f\"{csv_folder}file{i}.csv\"\n",
        "    try:\n",
        "        temp_df = pd.read_csv(file_path)\n",
        "        temp_df.to_csv(final_csv, mode='a', header=False, index=False, encoding='utf-8-sig')\n",
        "        print(f\"✅ Appended {file_path}\")\n",
        "    except FileNotFoundError:\n",
        "        print(f\"⚠️ {file_path} not found, skipped.\")\n",
        "    except Exception as e:\n",
        "        print(f\"⚠️ Error processing {file_path}: {e}\")\n",
        "\n",
        "print(\"🎉 All files combined successfully into a CSV without memory overload.\")\n"
      ]
    },
    {
      "cell_type": "code",
      "execution_count": null,
      "metadata": {
        "colab": {
          "base_uri": "https://localhost:8080/"
        },
        "id": "CHcNQEqnp1cR",
        "outputId": "71fe4c60-f96e-4940-f28f-5d3b1e8dd60f"
      },
      "outputs": [
        {
          "output_type": "stream",
          "name": "stdout",
          "text": [
            "Drive already mounted at /content/drive; to attempt to forcibly remount, call drive.mount(\"/content/drive\", force_remount=True).\n",
            "✅ Created combined file with: /content/drive/MyDrive/csv_converted/file1.csv\n",
            "✅ Appended: /content/drive/MyDrive/csv_converted/file2.csv\n",
            "✅ Appended: /content/drive/MyDrive/csv_converted/file3.csv\n",
            "✅ Appended: /content/drive/MyDrive/csv_converted/file4.csv\n"
          ]
        },
        {
          "output_type": "stream",
          "name": "stderr",
          "text": [
            "<ipython-input-1-039f7a287856>:19: DtypeWarning: Columns (6) have mixed types. Specify dtype option on import or set low_memory=False.\n",
            "  temp_df = pd.read_csv(file_path)\n"
          ]
        },
        {
          "output_type": "stream",
          "name": "stdout",
          "text": [
            "✅ Appended: /content/drive/MyDrive/csv_converted/file5.csv\n",
            "✅ Appended: /content/drive/MyDrive/csv_converted/file6.csv\n",
            "✅ Appended: /content/drive/MyDrive/csv_converted/file7.csv\n",
            "✅ Appended: /content/drive/MyDrive/csv_converted/file8.csv\n",
            "✅ Appended: /content/drive/MyDrive/csv_converted/file9.csv\n"
          ]
        },
        {
          "output_type": "stream",
          "name": "stderr",
          "text": [
            "<ipython-input-1-039f7a287856>:19: DtypeWarning: Columns (8) have mixed types. Specify dtype option on import or set low_memory=False.\n",
            "  temp_df = pd.read_csv(file_path)\n"
          ]
        },
        {
          "output_type": "stream",
          "name": "stdout",
          "text": [
            "✅ Appended: /content/drive/MyDrive/csv_converted/file10.csv\n",
            "✅ Appended: /content/drive/MyDrive/csv_converted/file11.csv\n",
            "✅ Appended: /content/drive/MyDrive/csv_converted/file12.csv\n",
            "✅ Appended: /content/drive/MyDrive/csv_converted/file13.csv\n",
            "✅ Appended: /content/drive/MyDrive/csv_converted/file14.csv\n"
          ]
        },
        {
          "output_type": "stream",
          "name": "stderr",
          "text": [
            "<ipython-input-1-039f7a287856>:19: DtypeWarning: Columns (8) have mixed types. Specify dtype option on import or set low_memory=False.\n",
            "  temp_df = pd.read_csv(file_path)\n"
          ]
        },
        {
          "output_type": "stream",
          "name": "stdout",
          "text": [
            "✅ Appended: /content/drive/MyDrive/csv_converted/file15.csv\n"
          ]
        },
        {
          "output_type": "stream",
          "name": "stderr",
          "text": [
            "<ipython-input-1-039f7a287856>:19: DtypeWarning: Columns (1,8) have mixed types. Specify dtype option on import or set low_memory=False.\n",
            "  temp_df = pd.read_csv(file_path)\n"
          ]
        },
        {
          "output_type": "stream",
          "name": "stdout",
          "text": [
            "✅ Appended: /content/drive/MyDrive/csv_converted/file16.csv\n",
            "✅ Appended: /content/drive/MyDrive/csv_converted/file17.csv\n"
          ]
        },
        {
          "output_type": "stream",
          "name": "stderr",
          "text": [
            "<ipython-input-1-039f7a287856>:19: DtypeWarning: Columns (1,3,8) have mixed types. Specify dtype option on import or set low_memory=False.\n",
            "  temp_df = pd.read_csv(file_path)\n"
          ]
        },
        {
          "output_type": "stream",
          "name": "stdout",
          "text": [
            "✅ Appended: /content/drive/MyDrive/csv_converted/file18.csv\n"
          ]
        },
        {
          "output_type": "stream",
          "name": "stderr",
          "text": [
            "<ipython-input-1-039f7a287856>:19: DtypeWarning: Columns (1,8) have mixed types. Specify dtype option on import or set low_memory=False.\n",
            "  temp_df = pd.read_csv(file_path)\n"
          ]
        },
        {
          "output_type": "stream",
          "name": "stdout",
          "text": [
            "✅ Appended: /content/drive/MyDrive/csv_converted/file19.csv\n"
          ]
        },
        {
          "output_type": "stream",
          "name": "stderr",
          "text": [
            "<ipython-input-1-039f7a287856>:19: DtypeWarning: Columns (8) have mixed types. Specify dtype option on import or set low_memory=False.\n",
            "  temp_df = pd.read_csv(file_path)\n"
          ]
        },
        {
          "output_type": "stream",
          "name": "stdout",
          "text": [
            "✅ Appended: /content/drive/MyDrive/csv_converted/file20.csv\n",
            "✅ Appended: /content/drive/MyDrive/csv_converted/file21.csv\n",
            "✅ Appended: /content/drive/MyDrive/csv_converted/file22.csv\n"
          ]
        },
        {
          "output_type": "stream",
          "name": "stderr",
          "text": [
            "<ipython-input-1-039f7a287856>:19: DtypeWarning: Columns (8) have mixed types. Specify dtype option on import or set low_memory=False.\n",
            "  temp_df = pd.read_csv(file_path)\n"
          ]
        },
        {
          "output_type": "stream",
          "name": "stdout",
          "text": [
            "✅ Appended: /content/drive/MyDrive/csv_converted/file23.csv\n"
          ]
        },
        {
          "output_type": "stream",
          "name": "stderr",
          "text": [
            "<ipython-input-1-039f7a287856>:19: DtypeWarning: Columns (8) have mixed types. Specify dtype option on import or set low_memory=False.\n",
            "  temp_df = pd.read_csv(file_path)\n"
          ]
        },
        {
          "output_type": "stream",
          "name": "stdout",
          "text": [
            "✅ Appended: /content/drive/MyDrive/csv_converted/file24.csv\n"
          ]
        },
        {
          "output_type": "stream",
          "name": "stderr",
          "text": [
            "<ipython-input-1-039f7a287856>:19: DtypeWarning: Columns (8) have mixed types. Specify dtype option on import or set low_memory=False.\n",
            "  temp_df = pd.read_csv(file_path)\n"
          ]
        },
        {
          "output_type": "stream",
          "name": "stdout",
          "text": [
            "✅ Appended: /content/drive/MyDrive/csv_converted/file25.csv\n"
          ]
        },
        {
          "output_type": "stream",
          "name": "stderr",
          "text": [
            "<ipython-input-1-039f7a287856>:19: DtypeWarning: Columns (8) have mixed types. Specify dtype option on import or set low_memory=False.\n",
            "  temp_df = pd.read_csv(file_path)\n"
          ]
        },
        {
          "output_type": "stream",
          "name": "stdout",
          "text": [
            "✅ Appended: /content/drive/MyDrive/csv_converted/file26.csv\n"
          ]
        },
        {
          "output_type": "stream",
          "name": "stderr",
          "text": [
            "<ipython-input-1-039f7a287856>:19: DtypeWarning: Columns (8) have mixed types. Specify dtype option on import or set low_memory=False.\n",
            "  temp_df = pd.read_csv(file_path)\n"
          ]
        },
        {
          "output_type": "stream",
          "name": "stdout",
          "text": [
            "✅ Appended: /content/drive/MyDrive/csv_converted/file27.csv\n",
            "✅ Appended: /content/drive/MyDrive/csv_converted/file28.csv\n",
            "✅ Appended: /content/drive/MyDrive/csv_converted/file29.csv\n",
            "✅ Appended: /content/drive/MyDrive/csv_converted/file30.csv\n"
          ]
        },
        {
          "output_type": "stream",
          "name": "stderr",
          "text": [
            "<ipython-input-1-039f7a287856>:19: DtypeWarning: Columns (8) have mixed types. Specify dtype option on import or set low_memory=False.\n",
            "  temp_df = pd.read_csv(file_path)\n"
          ]
        },
        {
          "output_type": "stream",
          "name": "stdout",
          "text": [
            "✅ Appended: /content/drive/MyDrive/csv_converted/file31.csv\n"
          ]
        },
        {
          "output_type": "stream",
          "name": "stderr",
          "text": [
            "<ipython-input-1-039f7a287856>:19: DtypeWarning: Columns (8) have mixed types. Specify dtype option on import or set low_memory=False.\n",
            "  temp_df = pd.read_csv(file_path)\n"
          ]
        },
        {
          "output_type": "stream",
          "name": "stdout",
          "text": [
            "✅ Appended: /content/drive/MyDrive/csv_converted/file32.csv\n",
            "✅ Appended: /content/drive/MyDrive/csv_converted/file33.csv\n",
            "✅ Appended: /content/drive/MyDrive/csv_converted/file34.csv\n"
          ]
        },
        {
          "output_type": "stream",
          "name": "stderr",
          "text": [
            "<ipython-input-1-039f7a287856>:19: DtypeWarning: Columns (8) have mixed types. Specify dtype option on import or set low_memory=False.\n",
            "  temp_df = pd.read_csv(file_path)\n"
          ]
        },
        {
          "output_type": "stream",
          "name": "stdout",
          "text": [
            "✅ Appended: /content/drive/MyDrive/csv_converted/file35.csv\n",
            "🎉 All files combined successfully into one CSV, header included only once.\n"
          ]
        }
      ],
      "source": [
        "from google.colab import drive\n",
        "drive.mount('/content/drive')\n",
        "\n",
        "import pandas as pd\n",
        "\n",
        "csv_folder = '/content/drive/MyDrive/csv_converted/'\n",
        "final_csv = '/content/drive/MyDrive/final_combined1.csv'\n",
        "\n",
        "# Read and save the first file (with header)\n",
        "first_file = f'{csv_folder}file1.csv'\n",
        "combined_df = pd.read_csv(first_file)\n",
        "combined_df.to_csv(final_csv, index=False, encoding='utf-8-sig')\n",
        "print(f\"✅ Created combined file with: {first_file}\")\n",
        "\n",
        "# Append remaining files without headers\n",
        "for i in range(2, 36):\n",
        "    file_path = f\"{csv_folder}file{i}.csv\"\n",
        "    try:\n",
        "        temp_df = pd.read_csv(file_path)\n",
        "        temp_df.to_csv(final_csv, mode='a', header=False, index=False, encoding='utf-8-sig')\n",
        "        print(f\"✅ Appended: {file_path}\")\n",
        "    except FileNotFoundError:\n",
        "        print(f\"⚠️ {file_path} not found, skipped.\")\n",
        "    except Exception as e:\n",
        "        print(f\"⚠️ Error processing {file_path}: {e}\")\n",
        "\n",
        "print(\"🎉 All files combined successfully into one CSV, header included only once.\")"
      ]
    },
    {
      "cell_type": "code",
      "execution_count": null,
      "metadata": {
        "colab": {
          "base_uri": "https://localhost:8080/",
          "height": 567
        },
        "id": "b9men9EcPW6K",
        "outputId": "fcd644cf-6cf8-4ea8-a75d-5ccab2b03e69"
      },
      "outputs": [
        {
          "name": "stdout",
          "output_type": "stream",
          "text": [
            "Drive already mounted at /content/drive; to attempt to forcibly remount, call drive.mount(\"/content/drive\", force_remount=True).\n",
            "✅ Created combined file with: /content/drive/MyDrive/csv_converted/file1.csv\n",
            "✅ Appended: /content/drive/MyDrive/csv_converted/file2.csv\n",
            "✅ Appended: /content/drive/MyDrive/csv_converted/file3.csv\n",
            "✅ Appended: /content/drive/MyDrive/csv_converted/file4.csv\n"
          ]
        },
        {
          "name": "stderr",
          "output_type": "stream",
          "text": [
            "<ipython-input-12-b16596e00fd3>:32: DtypeWarning: Columns (6) have mixed types. Specify dtype option on import or set low_memory=False.\n",
            "  temp_df = pd.read_csv(file_path, dtype=column_types, encoding='utf-8-sig')\n"
          ]
        },
        {
          "name": "stdout",
          "output_type": "stream",
          "text": [
            "✅ Appended: /content/drive/MyDrive/csv_converted/file5.csv\n",
            "✅ Appended: /content/drive/MyDrive/csv_converted/file6.csv\n"
          ]
        },
        {
          "ename": "KeyboardInterrupt",
          "evalue": "",
          "output_type": "error",
          "traceback": [
            "\u001b[0;31m---------------------------------------------------------------------------\u001b[0m",
            "\u001b[0;31mKeyboardInterrupt\u001b[0m                         Traceback (most recent call last)",
            "\u001b[0;32m<ipython-input-12-b16596e00fd3>\u001b[0m in \u001b[0;36m<cell line: 0>\u001b[0;34m()\u001b[0m\n\u001b[1;32m     35\u001b[0m         \u001b[0mtemp_df\u001b[0m\u001b[0;34m.\u001b[0m\u001b[0miloc\u001b[0m\u001b[0;34m[\u001b[0m\u001b[0;34m:\u001b[0m\u001b[0;34m,\u001b[0m \u001b[0;36m5\u001b[0m\u001b[0;34m]\u001b[0m \u001b[0;34m=\u001b[0m \u001b[0mpd\u001b[0m\u001b[0;34m.\u001b[0m\u001b[0mto_numeric\u001b[0m\u001b[0;34m(\u001b[0m\u001b[0mtemp_df\u001b[0m\u001b[0;34m.\u001b[0m\u001b[0miloc\u001b[0m\u001b[0;34m[\u001b[0m\u001b[0;34m:\u001b[0m\u001b[0;34m,\u001b[0m \u001b[0;36m5\u001b[0m\u001b[0;34m]\u001b[0m\u001b[0;34m,\u001b[0m \u001b[0merrors\u001b[0m\u001b[0;34m=\u001b[0m\u001b[0;34m\"coerce\"\u001b[0m\u001b[0;34m)\u001b[0m\u001b[0;34m.\u001b[0m\u001b[0mastype\u001b[0m\u001b[0;34m(\u001b[0m\u001b[0;34m\"Int64\"\u001b[0m\u001b[0;34m)\u001b[0m\u001b[0;34m\u001b[0m\u001b[0;34m\u001b[0m\u001b[0m\n\u001b[1;32m     36\u001b[0m \u001b[0;34m\u001b[0m\u001b[0m\n\u001b[0;32m---> 37\u001b[0;31m         \u001b[0mtemp_df\u001b[0m\u001b[0;34m.\u001b[0m\u001b[0mto_csv\u001b[0m\u001b[0;34m(\u001b[0m\u001b[0mfinal_csv\u001b[0m\u001b[0;34m,\u001b[0m \u001b[0mmode\u001b[0m\u001b[0;34m=\u001b[0m\u001b[0;34m'a'\u001b[0m\u001b[0;34m,\u001b[0m \u001b[0mheader\u001b[0m\u001b[0;34m=\u001b[0m\u001b[0;32mFalse\u001b[0m\u001b[0;34m,\u001b[0m \u001b[0mindex\u001b[0m\u001b[0;34m=\u001b[0m\u001b[0;32mFalse\u001b[0m\u001b[0;34m,\u001b[0m \u001b[0mencoding\u001b[0m\u001b[0;34m=\u001b[0m\u001b[0;34m'utf-8-sig'\u001b[0m\u001b[0;34m)\u001b[0m\u001b[0;34m\u001b[0m\u001b[0;34m\u001b[0m\u001b[0m\n\u001b[0m\u001b[1;32m     38\u001b[0m         \u001b[0mprint\u001b[0m\u001b[0;34m(\u001b[0m\u001b[0;34mf\"✅ Appended: {file_path}\"\u001b[0m\u001b[0;34m)\u001b[0m\u001b[0;34m\u001b[0m\u001b[0;34m\u001b[0m\u001b[0m\n\u001b[1;32m     39\u001b[0m \u001b[0;34m\u001b[0m\u001b[0m\n",
            "\u001b[0;32m/usr/local/lib/python3.11/dist-packages/pandas/util/_decorators.py\u001b[0m in \u001b[0;36mwrapper\u001b[0;34m(*args, **kwargs)\u001b[0m\n\u001b[1;32m    331\u001b[0m                     \u001b[0mstacklevel\u001b[0m\u001b[0;34m=\u001b[0m\u001b[0mfind_stack_level\u001b[0m\u001b[0;34m(\u001b[0m\u001b[0;34m)\u001b[0m\u001b[0;34m,\u001b[0m\u001b[0;34m\u001b[0m\u001b[0;34m\u001b[0m\u001b[0m\n\u001b[1;32m    332\u001b[0m                 )\n\u001b[0;32m--> 333\u001b[0;31m             \u001b[0;32mreturn\u001b[0m \u001b[0mfunc\u001b[0m\u001b[0;34m(\u001b[0m\u001b[0;34m*\u001b[0m\u001b[0margs\u001b[0m\u001b[0;34m,\u001b[0m \u001b[0;34m**\u001b[0m\u001b[0mkwargs\u001b[0m\u001b[0;34m)\u001b[0m\u001b[0;34m\u001b[0m\u001b[0;34m\u001b[0m\u001b[0m\n\u001b[0m\u001b[1;32m    334\u001b[0m \u001b[0;34m\u001b[0m\u001b[0m\n\u001b[1;32m    335\u001b[0m         \u001b[0;31m# error: \"Callable[[VarArg(Any), KwArg(Any)], Any]\" has no\u001b[0m\u001b[0;34m\u001b[0m\u001b[0;34m\u001b[0m\u001b[0m\n",
            "\u001b[0;32m/usr/local/lib/python3.11/dist-packages/pandas/core/generic.py\u001b[0m in \u001b[0;36mto_csv\u001b[0;34m(self, path_or_buf, sep, na_rep, float_format, columns, header, index, index_label, mode, encoding, compression, quoting, quotechar, lineterminator, chunksize, date_format, doublequote, escapechar, decimal, errors, storage_options)\u001b[0m\n\u001b[1;32m   3965\u001b[0m         )\n\u001b[1;32m   3966\u001b[0m \u001b[0;34m\u001b[0m\u001b[0m\n\u001b[0;32m-> 3967\u001b[0;31m         return DataFrameRenderer(formatter).to_csv(\n\u001b[0m\u001b[1;32m   3968\u001b[0m             \u001b[0mpath_or_buf\u001b[0m\u001b[0;34m,\u001b[0m\u001b[0;34m\u001b[0m\u001b[0;34m\u001b[0m\u001b[0m\n\u001b[1;32m   3969\u001b[0m             \u001b[0mlineterminator\u001b[0m\u001b[0;34m=\u001b[0m\u001b[0mlineterminator\u001b[0m\u001b[0;34m,\u001b[0m\u001b[0;34m\u001b[0m\u001b[0;34m\u001b[0m\u001b[0m\n",
            "\u001b[0;32m/usr/local/lib/python3.11/dist-packages/pandas/io/formats/format.py\u001b[0m in \u001b[0;36mto_csv\u001b[0;34m(self, path_or_buf, encoding, sep, columns, index_label, mode, compression, quoting, quotechar, lineterminator, chunksize, date_format, doublequote, escapechar, errors, storage_options)\u001b[0m\n\u001b[1;32m   1012\u001b[0m             \u001b[0mformatter\u001b[0m\u001b[0;34m=\u001b[0m\u001b[0mself\u001b[0m\u001b[0;34m.\u001b[0m\u001b[0mfmt\u001b[0m\u001b[0;34m,\u001b[0m\u001b[0;34m\u001b[0m\u001b[0;34m\u001b[0m\u001b[0m\n\u001b[1;32m   1013\u001b[0m         )\n\u001b[0;32m-> 1014\u001b[0;31m         \u001b[0mcsv_formatter\u001b[0m\u001b[0;34m.\u001b[0m\u001b[0msave\u001b[0m\u001b[0;34m(\u001b[0m\u001b[0;34m)\u001b[0m\u001b[0;34m\u001b[0m\u001b[0;34m\u001b[0m\u001b[0m\n\u001b[0m\u001b[1;32m   1015\u001b[0m \u001b[0;34m\u001b[0m\u001b[0m\n\u001b[1;32m   1016\u001b[0m         \u001b[0;32mif\u001b[0m \u001b[0mcreated_buffer\u001b[0m\u001b[0;34m:\u001b[0m\u001b[0;34m\u001b[0m\u001b[0;34m\u001b[0m\u001b[0m\n",
            "\u001b[0;32m/usr/local/lib/python3.11/dist-packages/pandas/io/formats/csvs.py\u001b[0m in \u001b[0;36msave\u001b[0;34m(self)\u001b[0m\n\u001b[1;32m    268\u001b[0m             )\n\u001b[1;32m    269\u001b[0m \u001b[0;34m\u001b[0m\u001b[0m\n\u001b[0;32m--> 270\u001b[0;31m             \u001b[0mself\u001b[0m\u001b[0;34m.\u001b[0m\u001b[0m_save\u001b[0m\u001b[0;34m(\u001b[0m\u001b[0;34m)\u001b[0m\u001b[0;34m\u001b[0m\u001b[0;34m\u001b[0m\u001b[0m\n\u001b[0m\u001b[1;32m    271\u001b[0m \u001b[0;34m\u001b[0m\u001b[0m\n\u001b[1;32m    272\u001b[0m     \u001b[0;32mdef\u001b[0m \u001b[0m_save\u001b[0m\u001b[0;34m(\u001b[0m\u001b[0mself\u001b[0m\u001b[0;34m)\u001b[0m \u001b[0;34m->\u001b[0m \u001b[0;32mNone\u001b[0m\u001b[0;34m:\u001b[0m\u001b[0;34m\u001b[0m\u001b[0;34m\u001b[0m\u001b[0m\n",
            "\u001b[0;32m/usr/local/lib/python3.11/dist-packages/pandas/io/formats/csvs.py\u001b[0m in \u001b[0;36m_save\u001b[0;34m(self)\u001b[0m\n\u001b[1;32m    273\u001b[0m         \u001b[0;32mif\u001b[0m \u001b[0mself\u001b[0m\u001b[0;34m.\u001b[0m\u001b[0m_need_to_save_header\u001b[0m\u001b[0;34m:\u001b[0m\u001b[0;34m\u001b[0m\u001b[0;34m\u001b[0m\u001b[0m\n\u001b[1;32m    274\u001b[0m             \u001b[0mself\u001b[0m\u001b[0;34m.\u001b[0m\u001b[0m_save_header\u001b[0m\u001b[0;34m(\u001b[0m\u001b[0;34m)\u001b[0m\u001b[0;34m\u001b[0m\u001b[0;34m\u001b[0m\u001b[0m\n\u001b[0;32m--> 275\u001b[0;31m         \u001b[0mself\u001b[0m\u001b[0;34m.\u001b[0m\u001b[0m_save_body\u001b[0m\u001b[0;34m(\u001b[0m\u001b[0;34m)\u001b[0m\u001b[0;34m\u001b[0m\u001b[0;34m\u001b[0m\u001b[0m\n\u001b[0m\u001b[1;32m    276\u001b[0m \u001b[0;34m\u001b[0m\u001b[0m\n\u001b[1;32m    277\u001b[0m     \u001b[0;32mdef\u001b[0m \u001b[0m_save_header\u001b[0m\u001b[0;34m(\u001b[0m\u001b[0mself\u001b[0m\u001b[0;34m)\u001b[0m \u001b[0;34m->\u001b[0m \u001b[0;32mNone\u001b[0m\u001b[0;34m:\u001b[0m\u001b[0;34m\u001b[0m\u001b[0;34m\u001b[0m\u001b[0m\n",
            "\u001b[0;32m/usr/local/lib/python3.11/dist-packages/pandas/io/formats/csvs.py\u001b[0m in \u001b[0;36m_save_body\u001b[0;34m(self)\u001b[0m\n\u001b[1;32m    311\u001b[0m             \u001b[0;32mif\u001b[0m \u001b[0mstart_i\u001b[0m \u001b[0;34m>=\u001b[0m \u001b[0mend_i\u001b[0m\u001b[0;34m:\u001b[0m\u001b[0;34m\u001b[0m\u001b[0;34m\u001b[0m\u001b[0m\n\u001b[1;32m    312\u001b[0m                 \u001b[0;32mbreak\u001b[0m\u001b[0;34m\u001b[0m\u001b[0;34m\u001b[0m\u001b[0m\n\u001b[0;32m--> 313\u001b[0;31m             \u001b[0mself\u001b[0m\u001b[0;34m.\u001b[0m\u001b[0m_save_chunk\u001b[0m\u001b[0;34m(\u001b[0m\u001b[0mstart_i\u001b[0m\u001b[0;34m,\u001b[0m \u001b[0mend_i\u001b[0m\u001b[0;34m)\u001b[0m\u001b[0;34m\u001b[0m\u001b[0;34m\u001b[0m\u001b[0m\n\u001b[0m\u001b[1;32m    314\u001b[0m \u001b[0;34m\u001b[0m\u001b[0m\n\u001b[1;32m    315\u001b[0m     \u001b[0;32mdef\u001b[0m \u001b[0m_save_chunk\u001b[0m\u001b[0;34m(\u001b[0m\u001b[0mself\u001b[0m\u001b[0;34m,\u001b[0m \u001b[0mstart_i\u001b[0m\u001b[0;34m:\u001b[0m \u001b[0mint\u001b[0m\u001b[0;34m,\u001b[0m \u001b[0mend_i\u001b[0m\u001b[0;34m:\u001b[0m \u001b[0mint\u001b[0m\u001b[0;34m)\u001b[0m \u001b[0;34m->\u001b[0m \u001b[0;32mNone\u001b[0m\u001b[0;34m:\u001b[0m\u001b[0;34m\u001b[0m\u001b[0;34m\u001b[0m\u001b[0m\n",
            "\u001b[0;32m/usr/local/lib/python3.11/dist-packages/pandas/io/formats/csvs.py\u001b[0m in \u001b[0;36m_save_chunk\u001b[0;34m(self, start_i, end_i)\u001b[0m\n\u001b[1;32m    322\u001b[0m \u001b[0;34m\u001b[0m\u001b[0m\n\u001b[1;32m    323\u001b[0m         \u001b[0mix\u001b[0m \u001b[0;34m=\u001b[0m \u001b[0mself\u001b[0m\u001b[0;34m.\u001b[0m\u001b[0mdata_index\u001b[0m\u001b[0;34m[\u001b[0m\u001b[0mslicer\u001b[0m\u001b[0;34m]\u001b[0m\u001b[0;34m.\u001b[0m\u001b[0m_get_values_for_csv\u001b[0m\u001b[0;34m(\u001b[0m\u001b[0;34m**\u001b[0m\u001b[0mself\u001b[0m\u001b[0;34m.\u001b[0m\u001b[0m_number_format\u001b[0m\u001b[0;34m)\u001b[0m\u001b[0;34m\u001b[0m\u001b[0;34m\u001b[0m\u001b[0m\n\u001b[0;32m--> 324\u001b[0;31m         libwriters.write_csv_rows(\n\u001b[0m\u001b[1;32m    325\u001b[0m             \u001b[0mdata\u001b[0m\u001b[0;34m,\u001b[0m\u001b[0;34m\u001b[0m\u001b[0;34m\u001b[0m\u001b[0m\n\u001b[1;32m    326\u001b[0m             \u001b[0mix\u001b[0m\u001b[0;34m,\u001b[0m\u001b[0;34m\u001b[0m\u001b[0;34m\u001b[0m\u001b[0m\n",
            "\u001b[0;32mwriters.pyx\u001b[0m in \u001b[0;36mpandas._libs.writers.write_csv_rows\u001b[0;34m()\u001b[0m\n",
            "\u001b[0;31mKeyboardInterrupt\u001b[0m: "
          ]
        }
      ],
      "source": [
        "from google.colab import drive\n",
        "drive.mount('/content/drive')\n",
        "\n",
        "import pandas as pd\n",
        "\n",
        "csv_folder = '/content/drive/MyDrive/csv_converted/'\n",
        "final_csv = '/content/drive/MyDrive/final_combined2.csv'\n",
        "\n",
        "# Define column types with Int64 (allows NaN values in integers)\n",
        "column_types = {\n",
        "    0: str,  # First column → String\n",
        "    2: str,  # Third column → String\n",
        "    5: \"Int64\",  # Sixth column → Integer, allows missing values\n",
        "    7: str  # Eighth column → String\n",
        "}\n",
        "\n",
        "# Read and save the first file (with header)\n",
        "first_file = f'{csv_folder}file1.csv'\n",
        "combined_df = pd.read_csv(first_file, dtype=column_types, encoding='utf-8-sig')\n",
        "\n",
        "# Convert problematic column manually (ensures integer type)\n",
        "combined_df.iloc[:, 5] = pd.to_numeric(combined_df.iloc[:, 5], errors=\"coerce\").astype(\"Int64\")\n",
        "\n",
        "# Save first file\n",
        "combined_df.to_csv(final_csv, index=False, encoding='utf-8-sig')\n",
        "print(f\"✅ Created combined file with: {first_file}\")\n",
        "\n",
        "# Append remaining files without headers\n",
        "for i in range(2, 36):\n",
        "    file_path = f\"{csv_folder}file{i}.csv\"\n",
        "    try:\n",
        "        temp_df = pd.read_csv(file_path, dtype=column_types, encoding='utf-8-sig')\n",
        "\n",
        "        # Convert column 6 to Integer safely\n",
        "        temp_df.iloc[:, 5] = pd.to_numeric(temp_df.iloc[:, 5], errors=\"coerce\").astype(\"Int64\")\n",
        "\n",
        "        temp_df.to_csv(final_csv, mode='a', header=False, index=False, encoding='utf-8-sig')\n",
        "        print(f\"✅ Appended: {file_path}\")\n",
        "\n",
        "    except FileNotFoundError:\n",
        "        print(f\"⚠️ {file_path} not found, skipped.\")\n",
        "    except Exception as e:\n",
        "        print(f\"⚠️ Error processing {file_path}: {e}\")\n",
        "\n",
        "print(\"🎉 All files combined successfully into one CSV with enforced column types.\")\n"
      ]
    },
    {
      "cell_type": "code",
      "execution_count": null,
      "metadata": {
        "colab": {
          "background_save": true,
          "base_uri": "https://localhost:8080/"
        },
        "id": "fIjrysOGXl9y",
        "outputId": "052035bd-a9c5-4970-b398-ca5b38e041a3"
      },
      "outputs": [
        {
          "name": "stdout",
          "output_type": "stream",
          "text": [
            "Drive already mounted at /content/drive; to attempt to forcibly remount, call drive.mount(\"/content/drive\", force_remount=True).\n",
            "✅ Created combined file with: /content/drive/MyDrive/csv_converted/file1.csv\n",
            "✅ Appended: /content/drive/MyDrive/csv_converted/file2.csv\n",
            "✅ Appended: /content/drive/MyDrive/csv_converted/file3.csv\n",
            "✅ Appended: /content/drive/MyDrive/csv_converted/file4.csv\n"
          ]
        },
        {
          "name": "stderr",
          "output_type": "stream",
          "text": [
            "<ipython-input-17-9c21ff086ce6>:38: DtypeWarning: Columns (6) have mixed types. Specify dtype option on import or set low_memory=False.\n",
            "  temp_df = pd.read_csv(file_path, dtype=column_types, encoding='utf-8-sig')\n"
          ]
        },
        {
          "name": "stdout",
          "output_type": "stream",
          "text": [
            "✅ Appended: /content/drive/MyDrive/csv_converted/file5.csv\n",
            "✅ Appended: /content/drive/MyDrive/csv_converted/file6.csv\n",
            "✅ Appended: /content/drive/MyDrive/csv_converted/file7.csv\n",
            "✅ Appended: /content/drive/MyDrive/csv_converted/file8.csv\n",
            "✅ Appended: /content/drive/MyDrive/csv_converted/file9.csv\n"
          ]
        },
        {
          "name": "stderr",
          "output_type": "stream",
          "text": [
            "<ipython-input-17-9c21ff086ce6>:38: DtypeWarning: Columns (8) have mixed types. Specify dtype option on import or set low_memory=False.\n",
            "  temp_df = pd.read_csv(file_path, dtype=column_types, encoding='utf-8-sig')\n"
          ]
        },
        {
          "name": "stdout",
          "output_type": "stream",
          "text": [
            "✅ Appended: /content/drive/MyDrive/csv_converted/file10.csv\n",
            "✅ Appended: /content/drive/MyDrive/csv_converted/file11.csv\n",
            "✅ Appended: /content/drive/MyDrive/csv_converted/file12.csv\n",
            "✅ Appended: /content/drive/MyDrive/csv_converted/file13.csv\n",
            "✅ Appended: /content/drive/MyDrive/csv_converted/file14.csv\n"
          ]
        },
        {
          "name": "stderr",
          "output_type": "stream",
          "text": [
            "<ipython-input-17-9c21ff086ce6>:38: DtypeWarning: Columns (8) have mixed types. Specify dtype option on import or set low_memory=False.\n",
            "  temp_df = pd.read_csv(file_path, dtype=column_types, encoding='utf-8-sig')\n"
          ]
        },
        {
          "name": "stdout",
          "output_type": "stream",
          "text": [
            "✅ Appended: /content/drive/MyDrive/csv_converted/file15.csv\n"
          ]
        },
        {
          "name": "stderr",
          "output_type": "stream",
          "text": [
            "<ipython-input-17-9c21ff086ce6>:38: DtypeWarning: Columns (1,8) have mixed types. Specify dtype option on import or set low_memory=False.\n",
            "  temp_df = pd.read_csv(file_path, dtype=column_types, encoding='utf-8-sig')\n"
          ]
        },
        {
          "name": "stdout",
          "output_type": "stream",
          "text": [
            "✅ Appended: /content/drive/MyDrive/csv_converted/file16.csv\n",
            "✅ Appended: /content/drive/MyDrive/csv_converted/file17.csv\n"
          ]
        },
        {
          "name": "stderr",
          "output_type": "stream",
          "text": [
            "<ipython-input-17-9c21ff086ce6>:38: DtypeWarning: Columns (1,3,8) have mixed types. Specify dtype option on import or set low_memory=False.\n",
            "  temp_df = pd.read_csv(file_path, dtype=column_types, encoding='utf-8-sig')\n"
          ]
        },
        {
          "name": "stdout",
          "output_type": "stream",
          "text": [
            "✅ Appended: /content/drive/MyDrive/csv_converted/file18.csv\n"
          ]
        },
        {
          "name": "stderr",
          "output_type": "stream",
          "text": [
            "<ipython-input-17-9c21ff086ce6>:38: DtypeWarning: Columns (1,8) have mixed types. Specify dtype option on import or set low_memory=False.\n",
            "  temp_df = pd.read_csv(file_path, dtype=column_types, encoding='utf-8-sig')\n"
          ]
        },
        {
          "name": "stdout",
          "output_type": "stream",
          "text": [
            "✅ Appended: /content/drive/MyDrive/csv_converted/file19.csv\n"
          ]
        },
        {
          "name": "stderr",
          "output_type": "stream",
          "text": [
            "<ipython-input-17-9c21ff086ce6>:38: DtypeWarning: Columns (8) have mixed types. Specify dtype option on import or set low_memory=False.\n",
            "  temp_df = pd.read_csv(file_path, dtype=column_types, encoding='utf-8-sig')\n"
          ]
        },
        {
          "name": "stdout",
          "output_type": "stream",
          "text": [
            "✅ Appended: /content/drive/MyDrive/csv_converted/file20.csv\n",
            "✅ Appended: /content/drive/MyDrive/csv_converted/file21.csv\n",
            "✅ Appended: /content/drive/MyDrive/csv_converted/file22.csv\n"
          ]
        },
        {
          "name": "stderr",
          "output_type": "stream",
          "text": [
            "<ipython-input-17-9c21ff086ce6>:38: DtypeWarning: Columns (8) have mixed types. Specify dtype option on import or set low_memory=False.\n",
            "  temp_df = pd.read_csv(file_path, dtype=column_types, encoding='utf-8-sig')\n"
          ]
        },
        {
          "name": "stdout",
          "output_type": "stream",
          "text": [
            "✅ Appended: /content/drive/MyDrive/csv_converted/file23.csv\n"
          ]
        },
        {
          "name": "stderr",
          "output_type": "stream",
          "text": [
            "<ipython-input-17-9c21ff086ce6>:38: DtypeWarning: Columns (8) have mixed types. Specify dtype option on import or set low_memory=False.\n",
            "  temp_df = pd.read_csv(file_path, dtype=column_types, encoding='utf-8-sig')\n"
          ]
        },
        {
          "name": "stdout",
          "output_type": "stream",
          "text": [
            "✅ Appended: /content/drive/MyDrive/csv_converted/file24.csv\n"
          ]
        },
        {
          "name": "stderr",
          "output_type": "stream",
          "text": [
            "<ipython-input-17-9c21ff086ce6>:38: DtypeWarning: Columns (8) have mixed types. Specify dtype option on import or set low_memory=False.\n",
            "  temp_df = pd.read_csv(file_path, dtype=column_types, encoding='utf-8-sig')\n"
          ]
        },
        {
          "name": "stdout",
          "output_type": "stream",
          "text": [
            "✅ Appended: /content/drive/MyDrive/csv_converted/file25.csv\n"
          ]
        },
        {
          "name": "stderr",
          "output_type": "stream",
          "text": [
            "<ipython-input-17-9c21ff086ce6>:38: DtypeWarning: Columns (8) have mixed types. Specify dtype option on import or set low_memory=False.\n",
            "  temp_df = pd.read_csv(file_path, dtype=column_types, encoding='utf-8-sig')\n"
          ]
        },
        {
          "name": "stdout",
          "output_type": "stream",
          "text": [
            "✅ Appended: /content/drive/MyDrive/csv_converted/file26.csv\n"
          ]
        },
        {
          "name": "stderr",
          "output_type": "stream",
          "text": [
            "<ipython-input-17-9c21ff086ce6>:38: DtypeWarning: Columns (8) have mixed types. Specify dtype option on import or set low_memory=False.\n",
            "  temp_df = pd.read_csv(file_path, dtype=column_types, encoding='utf-8-sig')\n"
          ]
        },
        {
          "name": "stdout",
          "output_type": "stream",
          "text": [
            "✅ Appended: /content/drive/MyDrive/csv_converted/file27.csv\n",
            "✅ Appended: /content/drive/MyDrive/csv_converted/file28.csv\n",
            "✅ Appended: /content/drive/MyDrive/csv_converted/file29.csv\n",
            "✅ Appended: /content/drive/MyDrive/csv_converted/file30.csv\n"
          ]
        },
        {
          "name": "stderr",
          "output_type": "stream",
          "text": [
            "<ipython-input-17-9c21ff086ce6>:38: DtypeWarning: Columns (8) have mixed types. Specify dtype option on import or set low_memory=False.\n",
            "  temp_df = pd.read_csv(file_path, dtype=column_types, encoding='utf-8-sig')\n"
          ]
        },
        {
          "name": "stdout",
          "output_type": "stream",
          "text": [
            "✅ Appended: /content/drive/MyDrive/csv_converted/file31.csv\n"
          ]
        },
        {
          "name": "stderr",
          "output_type": "stream",
          "text": [
            "<ipython-input-17-9c21ff086ce6>:38: DtypeWarning: Columns (8) have mixed types. Specify dtype option on import or set low_memory=False.\n",
            "  temp_df = pd.read_csv(file_path, dtype=column_types, encoding='utf-8-sig')\n"
          ]
        },
        {
          "name": "stdout",
          "output_type": "stream",
          "text": [
            "✅ Appended: /content/drive/MyDrive/csv_converted/file32.csv\n",
            "✅ Appended: /content/drive/MyDrive/csv_converted/file33.csv\n",
            "✅ Appended: /content/drive/MyDrive/csv_converted/file34.csv\n"
          ]
        },
        {
          "name": "stderr",
          "output_type": "stream",
          "text": [
            "<ipython-input-17-9c21ff086ce6>:38: DtypeWarning: Columns (8) have mixed types. Specify dtype option on import or set low_memory=False.\n",
            "  temp_df = pd.read_csv(file_path, dtype=column_types, encoding='utf-8-sig')\n"
          ]
        },
        {
          "name": "stdout",
          "output_type": "stream",
          "text": [
            "✅ Appended: /content/drive/MyDrive/csv_converted/file35.csv\n",
            "🎉 All files combined successfully into one CSV with enforced column types and cleaned data.\n"
          ]
        }
      ],
      "source": [
        "from google.colab import drive\n",
        "drive.mount('/content/drive')\n",
        "\n",
        "import pandas as pd\n",
        "\n",
        "csv_folder = '/content/drive/MyDrive/csv_converted/'\n",
        "final_csv = '/content/drive/MyDrive/final_combined.csv'\n",
        "\n",
        "# Define column types (force problematic column as string first)\n",
        "column_types = {\n",
        "    0: str,  # First column → String\n",
        "    2: str,  # Third column → String\n",
        "    5: str,  # Sixth column → Read as string first, then convert\n",
        "    7: str   # Eighth column → String\n",
        "}\n",
        "\n",
        "# Read and save the first file (with header)\n",
        "first_file = f'{csv_folder}file1.csv'\n",
        "combined_df = pd.read_csv(first_file, dtype=column_types, encoding='utf-8-sig')\n",
        "\n",
        "# Convert column 6 (index 5) safely:\n",
        "combined_df.iloc[:, 5] = (\n",
        "    combined_df.iloc[:, 5]\n",
        "    .replace(\"NULL\", \"0\")  # Replace NULL strings with \"0\"\n",
        "    .fillna(\"0\")  # Replace NaNs with \"0\"\n",
        "    .astype(float)  # Convert all values to float first\n",
        "    .astype(int)  # Finally convert to int\n",
        ")\n",
        "\n",
        "# Save first file\n",
        "combined_df.to_csv(final_csv, index=False, encoding='utf-8-sig')\n",
        "print(f\"✅ Created combined file with: {first_file}\")\n",
        "\n",
        "# Append remaining files without headers\n",
        "for i in range(2, 36):\n",
        "    file_path = f\"{csv_folder}file{i}.csv\"\n",
        "    try:\n",
        "        temp_df = pd.read_csv(file_path, dtype=column_types, encoding='utf-8-sig')\n",
        "\n",
        "        # Convert column 6 (index 5) safely\n",
        "        temp_df.iloc[:, 5] = (\n",
        "            temp_df.iloc[:, 5]\n",
        "            .replace(\"NULL\", \"0\")  # Replace NULL with \"0\"\n",
        "            .fillna(\"0\")  # Replace NaNs with \"0\"\n",
        "            .astype(float)  # Convert everything to float first\n",
        "            .astype(int)  # Then safely convert to int\n",
        "        )\n",
        "\n",
        "        temp_df.to_csv(final_csv, mode='a', header=False, index=False, encoding='utf-8-sig')\n",
        "        print(f\"✅ Appended: {file_path}\")\n",
        "\n",
        "    except FileNotFoundError:\n",
        "        print(f\"⚠️ {file_path} not found, skipped.\")\n",
        "    except Exception as e:\n",
        "        print(f\"⚠️ Error processing {file_path}: {e}\")\n",
        "\n",
        "print(\"🎉 All files combined successfully into one CSV with enforced column types and cleaned data.\")"
      ]
    },
    {
      "cell_type": "code",
      "execution_count": null,
      "metadata": {
        "id": "PWRbuu2jYqZQ"
      },
      "outputs": [],
      "source": []
    }
  ],
  "metadata": {
    "colab": {
      "provenance": []
    },
    "kernelspec": {
      "display_name": "Python 3",
      "name": "python3"
    },
    "language_info": {
      "name": "python"
    }
  },
  "nbformat": 4,
  "nbformat_minor": 0
}