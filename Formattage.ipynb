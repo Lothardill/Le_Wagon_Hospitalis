{
 "cells": [
  {
   "cell_type": "code",
   "execution_count": 13,
   "id": "2f896760-5f65-47ab-9226-e1710bc4a758",
   "metadata": {},
   "outputs": [
    {
     "name": "stderr",
     "output_type": "stream",
     "text": [
      "C:\\Users\\lgino\\AppData\\Local\\Temp\\ipykernel_19500\\3171306765.py:2: DtypeWarning: Columns (1,3,8) have mixed types. Specify dtype option on import or set low_memory=False.\n",
      "  df = pd.read_csv(\"C:/Users/lgino/code/Lothardill/Hospitalis/final_combined1.csv\")\n"
     ]
    }
   ],
   "source": [
    "import pandas as pd\n",
    "df = pd.read_csv(\"C:/Users/lgino/code/Lothardill/Hospitalis/final_combined1.csv\")"
   ]
  },
  {
   "cell_type": "code",
   "execution_count": 2,
   "id": "eb860cdf-5916-46c9-8418-3dbff1db4f3b",
   "metadata": {},
   "outputs": [],
   "source": [
    "df['Libellé Article'] = df['Libellé Article'].astype(str)\n",
    "df[\"Quantité\"] = (df[\"Quantité\"].str.replace(\",\", \".\", regex=False).astype(float))\n",
    "df['Quantité'] = df['Quantité'].fillna(0)\n",
    "df[\"Quantité\"] = (df[\"Quantité\"].round(0).astype(int))\n",
    "df['Dépôt DMI'] = df['Dépôt DMI'].replace(\"NULL\", \"0\", regex=False)\n",
    "df['Dépôt DMI'] = df['Dépôt DMI'].fillna(0)\n",
    "df[\"Dépôt DMI\"] = (df[\"Dépôt DMI\"].astype(int))"
   ]
  },
  {
   "cell_type": "code",
   "execution_count": 3,
   "id": "a26a52e6-f382-499f-b440-2bfb47d3c046",
   "metadata": {},
   "outputs": [
    {
     "name": "stdout",
     "output_type": "stream",
     "text": [
      "<class 'pandas.core.frame.DataFrame'>\n",
      "RangeIndex: 5953297 entries, 0 to 5953296\n",
      "Data columns (total 13 columns):\n",
      " #   Column           Dtype  \n",
      "---  ------           -----  \n",
      " 0   Fournisseur      object \n",
      " 1   Routage          object \n",
      " 2   Robot ETS        object \n",
      " 3   Date Insertion   object \n",
      " 4   Commande         object \n",
      " 5   Dépôt DMI        int32  \n",
      " 6   Réf. Article     object \n",
      " 7   Libellé Article  object \n",
      " 8   Quantité         int32  \n",
      " 9   Prix HT          float64\n",
      " 10  Prix TTC         float64\n",
      " 11  Mnt HT           float64\n",
      " 12  Mnt TTC          float64\n",
      "dtypes: float64(4), int32(2), object(7)\n",
      "memory usage: 545.0+ MB\n"
     ]
    }
   ],
   "source": [
    "df.info()"
   ]
  },
  {
   "cell_type": "code",
   "execution_count": 4,
   "id": "8934583a-0de0-46d4-9394-d761735f6441",
   "metadata": {},
   "outputs": [],
   "source": [
    "df[\"Date Insertion\"] = pd.to_datetime(df[\"Date Insertion\"], errors='coerce')"
   ]
  },
  {
   "cell_type": "code",
   "execution_count": 11,
   "id": "0923ba57-ae50-4786-9987-5eb0a8f91cbb",
   "metadata": {},
   "outputs": [
    {
     "name": "stdout",
     "output_type": "stream",
     "text": [
      "<class 'pandas.core.frame.DataFrame'>\n",
      "RangeIndex: 5953297 entries, 0 to 5953296\n",
      "Data columns (total 13 columns):\n",
      " #   Column           Dtype         \n",
      "---  ------           -----         \n",
      " 0   Fournisseur      object        \n",
      " 1   Routage          object        \n",
      " 2   Robot ETS        object        \n",
      " 3   Date Insertion   datetime64[ns]\n",
      " 4   Commande         object        \n",
      " 5   Dépôt DMI        int32         \n",
      " 6   Réf. Article     object        \n",
      " 7   Libellé Article  object        \n",
      " 8   Quantité         int32         \n",
      " 9   Prix HT          float64       \n",
      " 10  Prix TTC         float64       \n",
      " 11  Mnt HT           float64       \n",
      " 12  Mnt TTC          float64       \n",
      "dtypes: datetime64[ns](1), float64(4), int32(2), object(6)\n",
      "memory usage: 545.0+ MB\n"
     ]
    }
   ],
   "source": [
    "df.info()"
   ]
  },
  {
   "cell_type": "code",
   "execution_count": 16,
   "id": "c194b043-5760-4704-b099-91f005057dd0",
   "metadata": {},
   "outputs": [
    {
     "data": {
      "text/html": [
       "<div>\n",
       "<style scoped>\n",
       "    .dataframe tbody tr th:only-of-type {\n",
       "        vertical-align: middle;\n",
       "    }\n",
       "\n",
       "    .dataframe tbody tr th {\n",
       "        vertical-align: top;\n",
       "    }\n",
       "\n",
       "    .dataframe thead th {\n",
       "        text-align: right;\n",
       "    }\n",
       "</style>\n",
       "<table border=\"1\" class=\"dataframe\">\n",
       "  <thead>\n",
       "    <tr style=\"text-align: right;\">\n",
       "      <th></th>\n",
       "      <th>Dépôt DMI</th>\n",
       "      <th>Prix HT</th>\n",
       "      <th>Prix TTC</th>\n",
       "      <th>Mnt HT</th>\n",
       "      <th>Mnt TTC</th>\n",
       "    </tr>\n",
       "  </thead>\n",
       "  <tbody>\n",
       "    <tr>\n",
       "      <th>count</th>\n",
       "      <td>1295629.0</td>\n",
       "      <td>4.523625e+06</td>\n",
       "      <td>4.363828e+06</td>\n",
       "      <td>2.217254e+06</td>\n",
       "      <td>3.851677e+06</td>\n",
       "    </tr>\n",
       "    <tr>\n",
       "      <th>mean</th>\n",
       "      <td>1.0</td>\n",
       "      <td>2.201603e+02</td>\n",
       "      <td>2.301707e+02</td>\n",
       "      <td>2.793105e+02</td>\n",
       "      <td>4.797583e+02</td>\n",
       "    </tr>\n",
       "    <tr>\n",
       "      <th>std</th>\n",
       "      <td>0.0</td>\n",
       "      <td>1.060304e+03</td>\n",
       "      <td>1.101951e+03</td>\n",
       "      <td>1.172868e+03</td>\n",
       "      <td>4.865532e+03</td>\n",
       "    </tr>\n",
       "    <tr>\n",
       "      <th>min</th>\n",
       "      <td>1.0</td>\n",
       "      <td>-4.200000e+03</td>\n",
       "      <td>-4.431000e+03</td>\n",
       "      <td>0.000000e+00</td>\n",
       "      <td>-1.507275e+04</td>\n",
       "    </tr>\n",
       "    <tr>\n",
       "      <th>25%</th>\n",
       "      <td>1.0</td>\n",
       "      <td>9.000000e-01</td>\n",
       "      <td>8.880000e-01</td>\n",
       "      <td>0.000000e+00</td>\n",
       "      <td>3.600000e+01</td>\n",
       "    </tr>\n",
       "    <tr>\n",
       "      <th>50%</th>\n",
       "      <td>1.0</td>\n",
       "      <td>1.884450e+01</td>\n",
       "      <td>1.912330e+01</td>\n",
       "      <td>0.000000e+00</td>\n",
       "      <td>1.350000e+02</td>\n",
       "    </tr>\n",
       "    <tr>\n",
       "      <th>75%</th>\n",
       "      <td>1.0</td>\n",
       "      <td>1.181000e+02</td>\n",
       "      <td>1.247749e+02</td>\n",
       "      <td>1.695150e+02</td>\n",
       "      <td>4.200000e+02</td>\n",
       "    </tr>\n",
       "    <tr>\n",
       "      <th>max</th>\n",
       "      <td>1.0</td>\n",
       "      <td>7.000000e+04</td>\n",
       "      <td>8.400000e+04</td>\n",
       "      <td>9.570000e+04</td>\n",
       "      <td>8.479200e+06</td>\n",
       "    </tr>\n",
       "  </tbody>\n",
       "</table>\n",
       "</div>"
      ],
      "text/plain": [
       "       Dépôt DMI       Prix HT      Prix TTC        Mnt HT       Mnt TTC\n",
       "count  1295629.0  4.523625e+06  4.363828e+06  2.217254e+06  3.851677e+06\n",
       "mean         1.0  2.201603e+02  2.301707e+02  2.793105e+02  4.797583e+02\n",
       "std          0.0  1.060304e+03  1.101951e+03  1.172868e+03  4.865532e+03\n",
       "min          1.0 -4.200000e+03 -4.431000e+03  0.000000e+00 -1.507275e+04\n",
       "25%          1.0  9.000000e-01  8.880000e-01  0.000000e+00  3.600000e+01\n",
       "50%          1.0  1.884450e+01  1.912330e+01  0.000000e+00  1.350000e+02\n",
       "75%          1.0  1.181000e+02  1.247749e+02  1.695150e+02  4.200000e+02\n",
       "max          1.0  7.000000e+04  8.400000e+04  9.570000e+04  8.479200e+06"
      ]
     },
     "execution_count": 16,
     "metadata": {},
     "output_type": "execute_result"
    }
   ],
   "source": [
    "df.to_csv(\"C:/Users/lgino/code/Lothardill/Hospitalis/table_clean.csv\")\n",
    "df.describe()"
   ]
  },
  {
   "cell_type": "code",
   "execution_count": 22,
   "id": "89200fe3-2d7a-47c8-bfcb-a097208c9008",
   "metadata": {},
   "outputs": [
    {
     "ename": "ModuleNotFoundError",
     "evalue": "No module named 'ace_tools'",
     "output_type": "error",
     "traceback": [
      "\u001b[1;31m---------------------------------------------------------------------------\u001b[0m",
      "\u001b[1;31mModuleNotFoundError\u001b[0m                       Traceback (most recent call last)",
      "Cell \u001b[1;32mIn[22], line 26\u001b[0m\n\u001b[0;32m     23\u001b[0m         product_dict[row[\u001b[38;5;124m\"\u001b[39m\u001b[38;5;124mRéf. Article\u001b[39m\u001b[38;5;124m\"\u001b[39m]] \u001b[38;5;241m=\u001b[39m row\u001b[38;5;241m.\u001b[39mto_dict()  \u001b[38;5;66;03m# Store row as a dictionary\u001b[39;00m\n\u001b[0;32m     25\u001b[0m \u001b[38;5;66;03m# Step 5: Display final results\u001b[39;00m\n\u001b[1;32m---> 26\u001b[0m \u001b[38;5;28;01mimport\u001b[39;00m \u001b[38;5;21;01mace_tools\u001b[39;00m \u001b[38;5;28;01mas\u001b[39;00m \u001b[38;5;21;01mtools\u001b[39;00m\n\u001b[0;32m     27\u001b[0m tools\u001b[38;5;241m.\u001b[39mdisplay_dataframe_to_user(name\u001b[38;5;241m=\u001b[39m\u001b[38;5;124m\"\u001b[39m\u001b[38;5;124mFiltered Products (Prix HT >= 50€ & Depot_1_Percentage >= 75\u001b[39m\u001b[38;5;124m%\u001b[39m\u001b[38;5;124m)\u001b[39m\u001b[38;5;124m\"\u001b[39m, dataframe\u001b[38;5;241m=\u001b[39mpd\u001b[38;5;241m.\u001b[39mDataFrame(product_dict\u001b[38;5;241m.\u001b[39mvalues()))\n\u001b[0;32m     29\u001b[0m \u001b[38;5;28mprint\u001b[39m(\u001b[38;5;124m\"\u001b[39m\u001b[38;5;124m✅ Dictionary stored with\u001b[39m\u001b[38;5;124m\"\u001b[39m, \u001b[38;5;28mlen\u001b[39m(product_dict), \u001b[38;5;124m\"\u001b[39m\u001b[38;5;124mproducts.\u001b[39m\u001b[38;5;124m\"\u001b[39m)\n",
      "\u001b[1;31mModuleNotFoundError\u001b[0m: No module named 'ace_tools'"
     ]
    }
   ],
   "source": [
    "import pandas as pd\n",
    "\n",
    "# Step 1: Filter dataset to include only products where \"Prix HT\" >= 50€\n",
    "df_filtered = df[df[\"Prix HT\"] >= 50]\n",
    "\n",
    "# Step 2: Precompute the Depot_1_Percentage once (before the loop)\n",
    "df_depot_percentage = (\n",
    "    df_filtered.groupby(\"Réf. Article\")[\"Dépôt DMI\"]\n",
    "    .agg(lambda x: (x.sum() / x.count()) * 100)  # Calculate percentage\n",
    "    .reset_index()\n",
    "    .rename(columns={\"Dépôt DMI\": \"Depot_1_Percentage\"})\n",
    ")\n",
    "\n",
    "# Merge to bring \"Depot_1_Percentage\" into df_filtered\n",
    "df_filtered = df_filtered.merge(df_depot_percentage, on=\"Réf. Article\", how=\"left\")\n",
    "\n",
    "# Step 3: Initialize an empty dictionary\n",
    "product_dict = {}\n",
    "\n",
    "# Step 4: Loop through the dataframe\n",
    "for _, row in df_filtered.iterrows():\n",
    "    if row[\"Prix HT\"] > 50 and row[\"Depot_1_Percentage\"] >= 75:\n",
    "        product_dict[row[\"Réf. Article\"]] = row.to_dict()  # Store row as a dictionary\n",
    "\n",
    "# Step 5: Display final results\n",
    "import ace_tools as tools\n",
    "tools.display_dataframe_to_user(name=\"Filtered Products (Prix HT >= 50€ & Depot_1_Percentage >= 75%)\", dataframe=pd.DataFrame(product_dict.values()))\n",
    "\n",
    "print(\"✅ Dictionary stored with\", len(product_dict), \"products.\")"
   ]
  },
  {
   "cell_type": "code",
   "execution_count": null,
   "id": "64832e72-97d4-4b0d-9cec-eb25a315c621",
   "metadata": {},
   "outputs": [],
   "source": [
    "import pandas as pd\n",
    "df = pd.read_csv(\"C:/Users/lgino/code/Lothardill/Hospitalis/final_combined1.csv\")"
   ]
  }
 ],
 "metadata": {
  "kernelspec": {
   "display_name": "Python [conda env:base] *",
   "language": "python",
   "name": "conda-base-py"
  },
  "language_info": {
   "codemirror_mode": {
    "name": "ipython",
    "version": 3
   },
   "file_extension": ".py",
   "mimetype": "text/x-python",
   "name": "python",
   "nbconvert_exporter": "python",
   "pygments_lexer": "ipython3",
   "version": "3.12.7"
  }
 },
 "nbformat": 4,
 "nbformat_minor": 5
}
