{
 "cells": [
  {
   "cell_type": "code",
   "execution_count": null,
   "id": "59e84a4b-68c4-40c1-bd7c-d4ef50922a4f",
   "metadata": {},
   "outputs": [
    {
     "name": "stderr",
     "output_type": "stream",
     "text": [
      "C:\\Users\\lgino\\AppData\\Local\\Temp\\ipykernel_26104\\2866567216.py:3: DtypeWarning: Columns (2,4) have mixed types. Specify dtype option on import or set low_memory=False.\n",
      "  df = pd.read_csv(\"C:/Users/lgino/code/Lothardill/Hospitalis/Teo_final_gambit.csv\")\n"
     ]
    }
   ],
   "source": [
    "import pandas as pd\n",
    "\n",
    "df = pd.read_csv(\"C:/Users/lgino/code/Lothardill/Hospitalis/Teo_final_gambit.csv\")\n",
    "\n",
    "# Step 1: Filter dataset to include only products where \"Prix HT\" >= 50€\n",
    "df_filtered = df[df[\"Prix HT\"] >= 50]\n",
    "\n",
    "# Step 2: Precompute the Depot_1_Percentage once (before the loop)\n",
    "df_depot_percentage = (\n",
    "    df_filtered.groupby(\"Réf. Article\")[\"Dépôt DMI\"]\n",
    "    .agg(lambda x: (x.sum() / x.count()) * 100)  # Calculate percentage\n",
    "    .reset_index()\n",
    "    .rename(columns={\"Dépôt DMI\": \"Depot_1_Percentage\"})\n",
    ")\n",
    "\n",
    "# Merge to bring \"Depot_1_Percentage\" into df_filtered\n",
    "df_filtered = df_filtered.merge(df_depot_percentage, on=\"Réf. Article\", how=\"left\")\n",
    "\n",
    "# Step 3: Initialize an empty dictionary\n",
    "product_dict = {}\n",
    "\n",
    "# Step 4: Loop through the dataframe\n",
    "for _, row in df_filtered.iterrows():\n",
    "    if row[\"Prix HT\"] > 50 and row[\"Depot_1_Percentage\"] >= 75:\n",
    "        product_dict[row[\"Réf. Article\"]] = row.to_dict()  # Store row as a dictionary\n",
    "\n",
    "\n",
    "pd.DataFrame.from_dict(product_dict)\n",
    "\n",
    "# Step 5: Display final results\n",
    "print(\"✅ Dictionary stored with\", len(product_dict), \"products.\")"
   ]
  },
  {
   "cell_type": "code",
   "execution_count": 3,
   "id": "e0f5abd0-887e-49e5-b489-10ae15b6c578",
   "metadata": {},
   "outputs": [
    {
     "name": "stderr",
     "output_type": "stream",
     "text": [
      "C:\\Users\\lgino\\AppData\\Local\\Temp\\ipykernel_34892\\3498937880.py:2: DtypeWarning: Columns (2,4) have mixed types. Specify dtype option on import or set low_memory=False.\n",
      "  df = pd.read_csv(\"C:/Users/lgino/code/Lothardill/Hospitalis/Teo_final_gambit.csv\")\n"
     ]
    },
    {
     "name": "stdout",
     "output_type": "stream",
     "text": [
      "<class 'pandas.core.frame.DataFrame'>\n",
      "RangeIndex: 5953297 entries, 0 to 5953296\n",
      "Data columns (total 14 columns):\n",
      " #   Column           Dtype  \n",
      "---  ------           -----  \n",
      " 0   Unnamed: 0       int64  \n",
      " 1   Fournisseur      object \n",
      " 2   Routage          object \n",
      " 3   Robot ETS        object \n",
      " 4   Date Insertion   object \n",
      " 5   Commande         object \n",
      " 6   Dépôt DMI        int64  \n",
      " 7   Réf. Article     object \n",
      " 8   Libellé Article  object \n",
      " 9   Quantité         int64  \n",
      " 10  Prix HT          float64\n",
      " 11  Prix TTC         float64\n",
      " 12  Mnt HT           float64\n",
      " 13  Mnt TTC          float64\n",
      "dtypes: float64(4), int64(3), object(7)\n",
      "memory usage: 635.9+ MB\n"
     ]
    }
   ],
   "source": [
    "import pandas as pd\n",
    "df = pd.read_csv(\"C:/Users/lgino/code/Lothardill/Hospitalis/Teo_final_gambit.csv\")\n",
    "df.info()"
   ]
  },
  {
   "cell_type": "code",
   "execution_count": 5,
   "id": "45fbe499-32d7-43ce-a4b4-c80492b38186",
   "metadata": {},
   "outputs": [],
   "source": [
    "df[\"Date Insertion\"] = pd.to_datetime(df[\"Date Insertion\"], errors='coerce')"
   ]
  },
  {
   "cell_type": "code",
   "execution_count": 7,
   "id": "e0dbdbf0-7576-4763-bab7-f1968783b507",
   "metadata": {},
   "outputs": [
    {
     "name": "stdout",
     "output_type": "stream",
     "text": [
      "<class 'pandas.core.frame.DataFrame'>\n",
      "RangeIndex: 5953297 entries, 0 to 5953296\n",
      "Data columns (total 14 columns):\n",
      " #   Column           Dtype         \n",
      "---  ------           -----         \n",
      " 0   Unnamed: 0       int64         \n",
      " 1   Fournisseur      object        \n",
      " 2   Routage          object        \n",
      " 3   Robot ETS        object        \n",
      " 4   Date Insertion   datetime64[ns]\n",
      " 5   Commande         object        \n",
      " 6   Dépôt DMI        int64         \n",
      " 7   Réf. Article     object        \n",
      " 8   Libellé Article  object        \n",
      " 9   Quantité         int64         \n",
      " 10  Prix HT          float64       \n",
      " 11  Prix TTC         float64       \n",
      " 12  Mnt HT           float64       \n",
      " 13  Mnt TTC          float64       \n",
      "dtypes: datetime64[ns](1), float64(4), int64(3), object(6)\n",
      "memory usage: 635.9+ MB\n"
     ]
    }
   ],
   "source": [
    "df.info()"
   ]
  },
  {
   "cell_type": "code",
   "execution_count": 9,
   "id": "5614d4be-4ba6-40c3-a8de-93efdd912674",
   "metadata": {},
   "outputs": [
    {
     "ename": "AttributeError",
     "evalue": "'dict' object has no attribute 'append'",
     "output_type": "error",
     "traceback": [
      "\u001b[1;31m---------------------------------------------------------------------------\u001b[0m",
      "\u001b[1;31mAttributeError\u001b[0m                            Traceback (most recent call last)",
      "Cell \u001b[1;32mIn[9], line 5\u001b[0m\n\u001b[0;32m      3\u001b[0m \u001b[38;5;28;01mfor\u001b[39;00m row \u001b[38;5;129;01min\u001b[39;00m df[\u001b[38;5;124m\"\u001b[39m\u001b[38;5;124mRéf. Article\u001b[39m\u001b[38;5;124m\"\u001b[39m]:\n\u001b[0;32m      4\u001b[0m     \u001b[38;5;28;01mif\u001b[39;00m df[\u001b[38;5;124m\"\u001b[39m\u001b[38;5;124mRéf. Article\u001b[39m\u001b[38;5;124m\"\u001b[39m]\u001b[38;5;241m.\u001b[39munique:\n\u001b[1;32m----> 5\u001b[0m         dict_ref_article_unique\u001b[38;5;241m.\u001b[39mappend(row, ignore_index\u001b[38;5;241m=\u001b[39m\u001b[38;5;28;01mTrue\u001b[39;00m)\n\u001b[0;32m      6\u001b[0m         \u001b[38;5;28mprint\u001b[39m(dict_ref_article_unique)\n",
      "\u001b[1;31mAttributeError\u001b[0m: 'dict' object has no attribute 'append'"
     ]
    }
   ],
   "source": [
    "dict_ref_article_unique={}\n",
    "dict_ref_article_multiple={}\n",
    "for row in df[\"Réf. Article\"]:\n",
    "    if df[\"Réf. Article\"].unique:\n",
    "        dict_ref_article_unique.append(row, ignore_index=True)\n",
    "        print(dict_ref_article_unique)"
   ]
  },
  {
   "cell_type": "code",
   "execution_count": 15,
   "id": "cab6dea7-bb63-4873-8aab-085b75770020",
   "metadata": {},
   "outputs": [],
   "source": [
    "df[\"Réf. Article\"] = df[\"Réf. Article\"].astype(str).fillna(\"UNKNOWN\")"
   ]
  },
  {
   "cell_type": "code",
   "execution_count": 19,
   "id": "fd45aeae-915d-45f2-b128-53d8bead88ba",
   "metadata": {},
   "outputs": [
    {
     "ename": "KeyboardInterrupt",
     "evalue": "",
     "output_type": "error",
     "traceback": [
      "\u001b[1;31m---------------------------------------------------------------------------\u001b[0m",
      "\u001b[1;31mKeyboardInterrupt\u001b[0m                         Traceback (most recent call last)",
      "Cell \u001b[1;32mIn[19], line 17\u001b[0m\n\u001b[0;32m     15\u001b[0m         df_unique \u001b[38;5;241m=\u001b[39m pd\u001b[38;5;241m.\u001b[39mconcat([df_unique, row\u001b[38;5;241m.\u001b[39mto_frame()\u001b[38;5;241m.\u001b[39mT], ignore_index\u001b[38;5;241m=\u001b[39m\u001b[38;5;28;01mTrue\u001b[39;00m)\n\u001b[0;32m     16\u001b[0m     \u001b[38;5;28;01melse\u001b[39;00m:  \u001b[38;5;66;03m# Products that appear multiple times\u001b[39;00m\n\u001b[1;32m---> 17\u001b[0m         df_multiple \u001b[38;5;241m=\u001b[39m pd\u001b[38;5;241m.\u001b[39mconcat([df_multiple, row\u001b[38;5;241m.\u001b[39mto_frame()\u001b[38;5;241m.\u001b[39mT], ignore_index\u001b[38;5;241m=\u001b[39m\u001b[38;5;28;01mTrue\u001b[39;00m)\n\u001b[0;32m     19\u001b[0m \u001b[38;5;66;03m# Step 5: Display results\u001b[39;00m\n\u001b[0;32m     20\u001b[0m \u001b[38;5;28mprint\u001b[39m(\u001b[38;5;124mf\u001b[39m\u001b[38;5;124m\"\u001b[39m\u001b[38;5;124m✅ Unique Articles: \u001b[39m\u001b[38;5;132;01m{\u001b[39;00mdf_unique\u001b[38;5;241m.\u001b[39mshape[\u001b[38;5;241m0\u001b[39m]\u001b[38;5;132;01m}\u001b[39;00m\u001b[38;5;124m\"\u001b[39m)\n",
      "File \u001b[1;32m~\\anaconda3\\Lib\\site-packages\\pandas\\core\\series.py:2115\u001b[0m, in \u001b[0;36mSeries.to_frame\u001b[1;34m(self, name)\u001b[0m\n\u001b[0;32m   2113\u001b[0m         columns \u001b[38;5;241m=\u001b[39m default_index(\u001b[38;5;241m1\u001b[39m)\n\u001b[0;32m   2114\u001b[0m     \u001b[38;5;28;01melse\u001b[39;00m:\n\u001b[1;32m-> 2115\u001b[0m         columns \u001b[38;5;241m=\u001b[39m Index([name])\n\u001b[0;32m   2116\u001b[0m \u001b[38;5;28;01melse\u001b[39;00m:\n\u001b[0;32m   2117\u001b[0m     columns \u001b[38;5;241m=\u001b[39m Index([name])\n",
      "File \u001b[1;32m~\\anaconda3\\Lib\\site-packages\\pandas\\core\\indexes\\base.py:496\u001b[0m, in \u001b[0;36mIndex.__new__\u001b[1;34m(cls, data, dtype, copy, name, tupleize_cols)\u001b[0m\n\u001b[0;32m    493\u001b[0m \u001b[38;5;28;01mif\u001b[39;00m \u001b[38;5;129;01mnot\u001b[39;00m copy \u001b[38;5;129;01mand\u001b[39;00m \u001b[38;5;28misinstance\u001b[39m(data, (ABCSeries, Index)):\n\u001b[0;32m    494\u001b[0m     refs \u001b[38;5;241m=\u001b[39m data\u001b[38;5;241m.\u001b[39m_references\n\u001b[1;32m--> 496\u001b[0m is_pandas_object \u001b[38;5;241m=\u001b[39m \u001b[38;5;28misinstance\u001b[39m(data, (ABCSeries, Index, ExtensionArray))\n\u001b[0;32m    498\u001b[0m \u001b[38;5;66;03m# range\u001b[39;00m\n\u001b[0;32m    499\u001b[0m \u001b[38;5;28;01mif\u001b[39;00m \u001b[38;5;28misinstance\u001b[39m(data, (\u001b[38;5;28mrange\u001b[39m, RangeIndex)):\n",
      "File \u001b[1;32m~\\anaconda3\\Lib\\site-packages\\pandas\\core\\dtypes\\generic.py:44\u001b[0m, in \u001b[0;36mcreate_pandas_abc_type.<locals>._instancecheck\u001b[1;34m(cls, inst)\u001b[0m\n\u001b[0;32m     42\u001b[0m \u001b[38;5;129m@classmethod\u001b[39m  \u001b[38;5;66;03m# type: ignore[misc]\u001b[39;00m\n\u001b[0;32m     43\u001b[0m \u001b[38;5;28;01mdef\u001b[39;00m \u001b[38;5;21m_instancecheck\u001b[39m(\u001b[38;5;28mcls\u001b[39m, inst) \u001b[38;5;241m-\u001b[39m\u001b[38;5;241m>\u001b[39m \u001b[38;5;28mbool\u001b[39m:\n\u001b[1;32m---> 44\u001b[0m     \u001b[38;5;28;01mreturn\u001b[39;00m _check(inst) \u001b[38;5;129;01mand\u001b[39;00m \u001b[38;5;129;01mnot\u001b[39;00m \u001b[38;5;28misinstance\u001b[39m(inst, \u001b[38;5;28mtype\u001b[39m)\n",
      "File \u001b[1;32m~\\anaconda3\\Lib\\site-packages\\pandas\\core\\dtypes\\generic.py:37\u001b[0m, in \u001b[0;36mcreate_pandas_abc_type.<locals>._check\u001b[1;34m(inst)\u001b[0m\n\u001b[0;32m     36\u001b[0m \u001b[38;5;28;01mdef\u001b[39;00m \u001b[38;5;21mcreate_pandas_abc_type\u001b[39m(name, attr, comp):\n\u001b[1;32m---> 37\u001b[0m     \u001b[38;5;28;01mdef\u001b[39;00m \u001b[38;5;21m_check\u001b[39m(inst) \u001b[38;5;241m-\u001b[39m\u001b[38;5;241m>\u001b[39m \u001b[38;5;28mbool\u001b[39m:\n\u001b[0;32m     38\u001b[0m         \u001b[38;5;28;01mreturn\u001b[39;00m \u001b[38;5;28mgetattr\u001b[39m(inst, attr, \u001b[38;5;124m\"\u001b[39m\u001b[38;5;124m_typ\u001b[39m\u001b[38;5;124m\"\u001b[39m) \u001b[38;5;129;01min\u001b[39;00m comp\n\u001b[0;32m     40\u001b[0m     \u001b[38;5;66;03m# https://github.com/python/mypy/issues/1006\u001b[39;00m\n\u001b[0;32m     41\u001b[0m     \u001b[38;5;66;03m# error: 'classmethod' used with a non-method\u001b[39;00m\n",
      "\u001b[1;31mKeyboardInterrupt\u001b[0m: "
     ]
    }
   ],
   "source": [
    "import pandas as pd\n",
    "\n",
    "# Step 2: Count occurrences of each \"Réf. Article\"\n",
    "article_counts = df[\"Réf. Article\"].value_counts()\n",
    "\n",
    "# Step 3: Initialize empty DataFrames\n",
    "df_unique = pd.DataFrame(columns=df.columns)\n",
    "df_multiple = pd.DataFrame(columns=df.columns)\n",
    "\n",
    "# Step 4: Loop through dataframe and classify into correct DataFrame\n",
    "for _, row in df.iterrows():\n",
    "    ref_article = row[\"Réf. Article\"]\n",
    "\n",
    "    if article_counts.get(ref_article, 0) == 1:  # Unique products\n",
    "        df_unique = pd.concat([df_unique, row.to_frame().T], ignore_index=True)\n",
    "    else:  # Products that appear multiple times\n",
    "        df_multiple = pd.concat([df_multiple, row.to_frame().T], ignore_index=True)\n",
    "\n",
    "# Step 5: Display results\n",
    "print(f\"✅ Unique Articles: {df_unique.shape[0]}\")\n",
    "print(f\"✅ Multiple Occurrence Articles: {df_multiple.shape[0]}\")"
   ]
  },
  {
   "cell_type": "code",
   "execution_count": 13,
   "id": "1c41f22a-787c-4ba4-9115-94cc361f99b3",
   "metadata": {},
   "outputs": [
    {
     "data": {
      "text/plain": [
       "Réf. Article\n",
       "XXXXXXX      24278\n",
       "0            21895\n",
       "12106450S    16960\n",
       "18060085S    14344\n",
       "18965035S    13778\n",
       "             ...  \n",
       "VLT4047C         1\n",
       "DFX9006SC        1\n",
       "002022420        1\n",
       "ZVL14030         1\n",
       "141.2520         1\n",
       "Name: count, Length: 129211, dtype: int64"
      ]
     },
     "execution_count": 13,
     "metadata": {},
     "output_type": "execute_result"
    }
   ],
   "source": [
    "df[\"Réf. Article\"].value_counts()"
   ]
  },
  {
   "cell_type": "code",
   "execution_count": 22,
   "id": "3a2f9863-bc76-4887-8242-56aee58c2dd1",
   "metadata": {},
   "outputs": [
    {
     "name": "stdout",
     "output_type": "stream",
     "text": [
      "✅ Processing completed! Unique Articles: 33504, Multiple Articles: 5919793\n"
     ]
    }
   ],
   "source": [
    "import pandas as pd\n",
    "\n",
    "# Step 1: Ensure \"Réf. Article\" has no NaN values\n",
    "df[\"Réf. Article\"] = df[\"Réf. Article\"].astype(str).fillna(\"UNKNOWN\")\n",
    "\n",
    "# Step 2: Count occurrences of each \"Réf. Article\"\n",
    "article_counts = df[\"Réf. Article\"].value_counts()\n",
    "\n",
    "# Step 3: Classify products based on their count (Vectorized)\n",
    "df[\"Is_Unique\"] = df[\"Réf. Article\"].map(article_counts) == 1\n",
    "\n",
    "# Step 4: Create separate DataFrames for unique & multiple occurrence products\n",
    "df_unique = df[df[\"Is_Unique\"]].drop(columns=[\"Is_Unique\"])\n",
    "df_multiple = df[~df[\"Is_Unique\"]].drop(columns=[\"Is_Unique\"])\n",
    "\n",
    "# Step 5: Save the results\n",
    "df_unique.to_csv(\"unique_articles.csv\", index=False, encoding=\"utf-8-sig\")\n",
    "df_multiple.to_csv(\"multiple_articles.csv\", index=False, encoding=\"utf-8-sig\")\n",
    "\n",
    "print(f\"✅ Processing completed! Unique Articles: {df_unique.shape[0]}, Multiple Articles: {df_multiple.shape[0]}\")"
   ]
  },
  {
   "cell_type": "code",
   "execution_count": 32,
   "id": "1a7e8ad3-b2cf-48c9-8eec-6ce99dff3507",
   "metadata": {},
   "outputs": [
    {
     "ename": "KeyError",
     "evalue": "\"['Unnamed: 0'] not found in axis\"",
     "output_type": "error",
     "traceback": [
      "\u001b[1;31m---------------------------------------------------------------------------\u001b[0m",
      "\u001b[1;31mKeyError\u001b[0m                                  Traceback (most recent call last)",
      "Cell \u001b[1;32mIn[32], line 1\u001b[0m\n\u001b[1;32m----> 1\u001b[0m df_multiple \u001b[38;5;241m=\u001b[39m df_multiple\u001b[38;5;241m.\u001b[39mdrop(columns\u001b[38;5;241m=\u001b[39m[\u001b[38;5;124m\"\u001b[39m\u001b[38;5;124mUnnamed: 0\u001b[39m\u001b[38;5;124m\"\u001b[39m])\n\u001b[0;32m      2\u001b[0m df_multiple\n",
      "File \u001b[1;32m~\\anaconda3\\Lib\\site-packages\\pandas\\core\\frame.py:5581\u001b[0m, in \u001b[0;36mDataFrame.drop\u001b[1;34m(self, labels, axis, index, columns, level, inplace, errors)\u001b[0m\n\u001b[0;32m   5433\u001b[0m \u001b[38;5;28;01mdef\u001b[39;00m \u001b[38;5;21mdrop\u001b[39m(\n\u001b[0;32m   5434\u001b[0m     \u001b[38;5;28mself\u001b[39m,\n\u001b[0;32m   5435\u001b[0m     labels: IndexLabel \u001b[38;5;241m|\u001b[39m \u001b[38;5;28;01mNone\u001b[39;00m \u001b[38;5;241m=\u001b[39m \u001b[38;5;28;01mNone\u001b[39;00m,\n\u001b[1;32m   (...)\u001b[0m\n\u001b[0;32m   5442\u001b[0m     errors: IgnoreRaise \u001b[38;5;241m=\u001b[39m \u001b[38;5;124m\"\u001b[39m\u001b[38;5;124mraise\u001b[39m\u001b[38;5;124m\"\u001b[39m,\n\u001b[0;32m   5443\u001b[0m ) \u001b[38;5;241m-\u001b[39m\u001b[38;5;241m>\u001b[39m DataFrame \u001b[38;5;241m|\u001b[39m \u001b[38;5;28;01mNone\u001b[39;00m:\n\u001b[0;32m   5444\u001b[0m \u001b[38;5;250m    \u001b[39m\u001b[38;5;124;03m\"\"\"\u001b[39;00m\n\u001b[0;32m   5445\u001b[0m \u001b[38;5;124;03m    Drop specified labels from rows or columns.\u001b[39;00m\n\u001b[0;32m   5446\u001b[0m \n\u001b[1;32m   (...)\u001b[0m\n\u001b[0;32m   5579\u001b[0m \u001b[38;5;124;03m            weight  1.0     0.8\u001b[39;00m\n\u001b[0;32m   5580\u001b[0m \u001b[38;5;124;03m    \"\"\"\u001b[39;00m\n\u001b[1;32m-> 5581\u001b[0m     \u001b[38;5;28;01mreturn\u001b[39;00m \u001b[38;5;28msuper\u001b[39m()\u001b[38;5;241m.\u001b[39mdrop(\n\u001b[0;32m   5582\u001b[0m         labels\u001b[38;5;241m=\u001b[39mlabels,\n\u001b[0;32m   5583\u001b[0m         axis\u001b[38;5;241m=\u001b[39maxis,\n\u001b[0;32m   5584\u001b[0m         index\u001b[38;5;241m=\u001b[39mindex,\n\u001b[0;32m   5585\u001b[0m         columns\u001b[38;5;241m=\u001b[39mcolumns,\n\u001b[0;32m   5586\u001b[0m         level\u001b[38;5;241m=\u001b[39mlevel,\n\u001b[0;32m   5587\u001b[0m         inplace\u001b[38;5;241m=\u001b[39minplace,\n\u001b[0;32m   5588\u001b[0m         errors\u001b[38;5;241m=\u001b[39merrors,\n\u001b[0;32m   5589\u001b[0m     )\n",
      "File \u001b[1;32m~\\anaconda3\\Lib\\site-packages\\pandas\\core\\generic.py:4788\u001b[0m, in \u001b[0;36mNDFrame.drop\u001b[1;34m(self, labels, axis, index, columns, level, inplace, errors)\u001b[0m\n\u001b[0;32m   4786\u001b[0m \u001b[38;5;28;01mfor\u001b[39;00m axis, labels \u001b[38;5;129;01min\u001b[39;00m axes\u001b[38;5;241m.\u001b[39mitems():\n\u001b[0;32m   4787\u001b[0m     \u001b[38;5;28;01mif\u001b[39;00m labels \u001b[38;5;129;01mis\u001b[39;00m \u001b[38;5;129;01mnot\u001b[39;00m \u001b[38;5;28;01mNone\u001b[39;00m:\n\u001b[1;32m-> 4788\u001b[0m         obj \u001b[38;5;241m=\u001b[39m obj\u001b[38;5;241m.\u001b[39m_drop_axis(labels, axis, level\u001b[38;5;241m=\u001b[39mlevel, errors\u001b[38;5;241m=\u001b[39merrors)\n\u001b[0;32m   4790\u001b[0m \u001b[38;5;28;01mif\u001b[39;00m inplace:\n\u001b[0;32m   4791\u001b[0m     \u001b[38;5;28mself\u001b[39m\u001b[38;5;241m.\u001b[39m_update_inplace(obj)\n",
      "File \u001b[1;32m~\\anaconda3\\Lib\\site-packages\\pandas\\core\\generic.py:4830\u001b[0m, in \u001b[0;36mNDFrame._drop_axis\u001b[1;34m(self, labels, axis, level, errors, only_slice)\u001b[0m\n\u001b[0;32m   4828\u001b[0m         new_axis \u001b[38;5;241m=\u001b[39m axis\u001b[38;5;241m.\u001b[39mdrop(labels, level\u001b[38;5;241m=\u001b[39mlevel, errors\u001b[38;5;241m=\u001b[39merrors)\n\u001b[0;32m   4829\u001b[0m     \u001b[38;5;28;01melse\u001b[39;00m:\n\u001b[1;32m-> 4830\u001b[0m         new_axis \u001b[38;5;241m=\u001b[39m axis\u001b[38;5;241m.\u001b[39mdrop(labels, errors\u001b[38;5;241m=\u001b[39merrors)\n\u001b[0;32m   4831\u001b[0m     indexer \u001b[38;5;241m=\u001b[39m axis\u001b[38;5;241m.\u001b[39mget_indexer(new_axis)\n\u001b[0;32m   4833\u001b[0m \u001b[38;5;66;03m# Case for non-unique axis\u001b[39;00m\n\u001b[0;32m   4834\u001b[0m \u001b[38;5;28;01melse\u001b[39;00m:\n",
      "File \u001b[1;32m~\\anaconda3\\Lib\\site-packages\\pandas\\core\\indexes\\base.py:7070\u001b[0m, in \u001b[0;36mIndex.drop\u001b[1;34m(self, labels, errors)\u001b[0m\n\u001b[0;32m   7068\u001b[0m \u001b[38;5;28;01mif\u001b[39;00m mask\u001b[38;5;241m.\u001b[39many():\n\u001b[0;32m   7069\u001b[0m     \u001b[38;5;28;01mif\u001b[39;00m errors \u001b[38;5;241m!=\u001b[39m \u001b[38;5;124m\"\u001b[39m\u001b[38;5;124mignore\u001b[39m\u001b[38;5;124m\"\u001b[39m:\n\u001b[1;32m-> 7070\u001b[0m         \u001b[38;5;28;01mraise\u001b[39;00m \u001b[38;5;167;01mKeyError\u001b[39;00m(\u001b[38;5;124mf\u001b[39m\u001b[38;5;124m\"\u001b[39m\u001b[38;5;132;01m{\u001b[39;00mlabels[mask]\u001b[38;5;241m.\u001b[39mtolist()\u001b[38;5;132;01m}\u001b[39;00m\u001b[38;5;124m not found in axis\u001b[39m\u001b[38;5;124m\"\u001b[39m)\n\u001b[0;32m   7071\u001b[0m     indexer \u001b[38;5;241m=\u001b[39m indexer[\u001b[38;5;241m~\u001b[39mmask]\n\u001b[0;32m   7072\u001b[0m \u001b[38;5;28;01mreturn\u001b[39;00m \u001b[38;5;28mself\u001b[39m\u001b[38;5;241m.\u001b[39mdelete(indexer)\n",
      "\u001b[1;31mKeyError\u001b[0m: \"['Unnamed: 0'] not found in axis\""
     ]
    }
   ],
   "source": [
    "df_multiple = df_multiple.drop(columns=[\"Unnamed: 0\"])"
   ]
  },
  {
   "cell_type": "code",
   "execution_count": 36,
   "id": "106c64e9-1529-4ab7-b7df-1ccf7b55c80a",
   "metadata": {},
   "outputs": [],
   "source": [
    "df_multiple[\"Prix HT\"] = df_multiple[\"Prix HT\"].fillna(\"0.0\")"
   ]
  },
  {
   "cell_type": "code",
   "execution_count": 88,
   "id": "6631fd0a-a1f1-4109-a2fd-911419fac693",
   "metadata": {},
   "outputs": [
    {
     "data": {
      "text/plain": [
       "Réf. Article\n",
       "12106450S        16960\n",
       "18060085S        14344\n",
       "18965035S        13778\n",
       "377179           10770\n",
       "LNQ11            10658\n",
       "31251180S        10562\n",
       "18965040S        10273\n",
       "377177            9701\n",
       "W2DR01            7661\n",
       "18965045S         7510\n",
       "8371CEB           7127\n",
       "TE1626W           6756\n",
       "C13               6699\n",
       "422627            6616\n",
       "DKB7127           6482\n",
       "3400891068238     6399\n",
       "3400891343281     6382\n",
       "300865            6307\n",
       "335330            6053\n",
       "AR-1588RT-2J      6011\n",
       "CMRM6122INT       5943\n",
       "72202468          5933\n",
       "C0R47             5561\n",
       "508538            5413\n",
       "18965050S         4959\n",
       "657314            4924\n",
       "003-40F           4741\n",
       "AR-7500-1         4734\n",
       "210190            4644\n",
       "422624            4641\n",
       "4722              4630\n",
       "30600090S         4507\n",
       "EGIA60AMT         4464\n",
       "037102            4389\n",
       "8886803712        4388\n",
       "30600095S         4348\n",
       "383069            4346\n",
       "220300            4314\n",
       "657316            4282\n",
       "332800-000010     4256\n",
       "309110            4247\n",
       "300629            4246\n",
       "201971            4230\n",
       "420620            4226\n",
       "2D72NT65X         4211\n",
       "407145            4205\n",
       "EGIAUSTND         4183\n",
       "7148605           4149\n",
       "5032749028781     4123\n",
       "3400892605012     4120\n",
       "Name: count, dtype: int64"
      ]
     },
     "execution_count": 88,
     "metadata": {},
     "output_type": "execute_result"
    }
   ],
   "source": [
    "df_multiple[\"Réf. Article\"].value_counts().head(50)"
   ]
  },
  {
   "cell_type": "code",
   "execution_count": 82,
   "id": "2bc9ee8d-c078-44cc-985d-54182df12d0d",
   "metadata": {},
   "outputs": [],
   "source": [
    "df_multiple = df_multiple[df_multiple[\"Réf. Article\"] != \"XXXXXX\"]\n",
    "df_multiple = df_multiple[df_multiple[\"Réf. Article\"] != \"0\"]\n",
    "df_multiple = df_multiple[df_multiple[\"Réf. Article\"] != \"nan\"]\n",
    "df_multiple = df_multiple[df_multiple[\"Réf. Article\"] != \".\"]\n",
    "df_multiple = df_multiple[df_multiple[\"Réf. Article\"] != \"???\"]"
   ]
  },
  {
   "cell_type": "code",
   "execution_count": 83,
   "id": "8b53eb45-3e9a-4430-b06c-d59a35313f95",
   "metadata": {},
   "outputs": [
    {
     "name": "stdout",
     "output_type": "stream",
     "text": [
      "<class 'pandas.core.frame.DataFrame'>\n",
      "Index: 5853200 entries, 0 to 5953296\n",
      "Data columns (total 13 columns):\n",
      " #   Column           Dtype         \n",
      "---  ------           -----         \n",
      " 0   Fournisseur      object        \n",
      " 1   Routage          object        \n",
      " 2   Robot ETS        object        \n",
      " 3   Date Insertion   datetime64[ns]\n",
      " 4   Commande         object        \n",
      " 5   Dépôt DMI        int64         \n",
      " 6   Réf. Article     object        \n",
      " 7   Libellé Article  object        \n",
      " 8   Quantité         int64         \n",
      " 9   Prix HT          object        \n",
      " 10  Prix TTC         float64       \n",
      " 11  Mnt HT           float64       \n",
      " 12  Mnt TTC          float64       \n",
      "dtypes: datetime64[ns](1), float64(3), int64(2), object(7)\n",
      "memory usage: 625.2+ MB\n"
     ]
    }
   ],
   "source": [
    "df_multiple.info()"
   ]
  },
  {
   "cell_type": "code",
   "execution_count": 114,
   "id": "b6085ba9-dbf9-41ce-bd8c-782f3e32637e",
   "metadata": {},
   "outputs": [
    {
     "data": {
      "text/plain": [
       "2342210"
      ]
     },
     "execution_count": 114,
     "metadata": {},
     "output_type": "execute_result"
    }
   ],
   "source": [
    "df_numeric_only = df_multiple[df_multiple[\"Réf. Article\"].str.match(r\"^\\d+$\", na=False)]\n",
    "df_numeric_only[\"Réf. Article\"].count()\n"
   ]
  },
  {
   "cell_type": "code",
   "execution_count": 108,
   "id": "c61c8e01-09fe-4226-a6fa-a70978cb2f0f",
   "metadata": {},
   "outputs": [
    {
     "data": {
      "text/plain": [
       "52593"
      ]
     },
     "execution_count": 108,
     "metadata": {},
     "output_type": "execute_result"
    }
   ],
   "source": [
    "df_multiple[\"Length\"] = df_multiple[\"Réf. Article\"].astype(str).str.len()\n",
    "df_outliers_length['Réf. Article'].count()\n"
   ]
  },
  {
   "cell_type": "code",
   "execution_count": 110,
   "id": "b0435e6c-90b5-4ae2-8bac-38ee8d1f8789",
   "metadata": {},
   "outputs": [
    {
     "data": {
      "text/plain": [
       "264434"
      ]
     },
     "execution_count": 110,
     "metadata": {},
     "output_type": "execute_result"
    }
   ],
   "source": [
    "df_special_chars = df_multiple[~df_multiple[\"Réf. Article\"].str.match(r\"^[A-Za-z0-9\\-]+$\", na=False)]\n",
    "df_special_chars[\"Réf. Article\"].count()"
   ]
  },
  {
   "cell_type": "code",
   "execution_count": 128,
   "id": "1b8c14dd-1b7b-4c99-ad62-19d25659e238",
   "metadata": {},
   "outputs": [
    {
     "data": {
      "text/plain": [
       "95702"
      ]
     },
     "execution_count": 128,
     "metadata": {},
     "output_type": "execute_result"
    }
   ],
   "source": [
    "len(df_multiple[\"Réf. Article\"].unique())"
   ]
  },
  {
   "cell_type": "code",
   "execution_count": null,
   "id": "d1204e3c-ffd6-4ee1-972d-397e7e927f63",
   "metadata": {},
   "outputs": [],
   "source": []
  }
 ],
 "metadata": {
  "kernelspec": {
   "display_name": "Python [conda env:base] *",
   "language": "python",
   "name": "conda-base-py"
  },
  "language_info": {
   "codemirror_mode": {
    "name": "ipython",
    "version": 3
   },
   "file_extension": ".py",
   "mimetype": "text/x-python",
   "name": "python",
   "nbconvert_exporter": "python",
   "pygments_lexer": "ipython3",
   "version": "3.12.7"
  }
 },
 "nbformat": 4,
 "nbformat_minor": 5
}
